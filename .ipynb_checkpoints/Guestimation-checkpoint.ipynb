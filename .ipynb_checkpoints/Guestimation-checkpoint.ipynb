{
 "cells": [
  {
   "cell_type": "code",
   "execution_count": 28,
   "id": "b5ae8b75",
   "metadata": {},
   "outputs": [],
   "source": [
    "import numpy as np\n",
    "import pandas as pd\n",
    "import scipy.stats as stats\n",
    "import matplotlib.pyplot as plt\n",
    "import math\n",
    "from datetime import datetime\n",
    "import time\n",
    "import IPython\n",
    "import os\n",
    "import threading\n",
    "from sklearn.linear_model import LinearRegression\n",
    "\n",
    "import warnings\n",
    "warnings.filterwarnings('error', category=UserWarning)"
   ]
  },
  {
   "cell_type": "code",
   "execution_count": 29,
   "id": "ff5ff205",
   "metadata": {},
   "outputs": [],
   "source": [
    "REGIONLIST= [\"US\", \"EU\", \"UK\"]\n",
    "MODELLIST = [\"64\", \"256\", \"512\"]\n",
    "ESTIMATELIST = [\"Q1\",\"Q2\", \"Q3\"]"
   ]
  },
  {
   "cell_type": "code",
   "execution_count": 30,
   "id": "11115604",
   "metadata": {},
   "outputs": [
    {
     "name": "stdout",
     "output_type": "stream",
     "text": [
      "[('US', '64', 'Q1'), ('US', '64', 'Q2'), ('US', '64', 'Q3'), ('US', '256', 'Q1'), ('US', '256', 'Q2'), ('US', '256', 'Q3'), ('US', '512', 'Q1'), ('US', '512', 'Q2'), ('US', '512', 'Q3'), ('EU', '64', 'Q1'), ('EU', '64', 'Q2'), ('EU', '64', 'Q3'), ('EU', '256', 'Q1'), ('EU', '256', 'Q2'), ('EU', '256', 'Q3'), ('EU', '512', 'Q1'), ('EU', '512', 'Q2'), ('EU', '512', 'Q3'), ('UK', '64', 'Q1'), ('UK', '64', 'Q2'), ('UK', '64', 'Q3'), ('UK', '256', 'Q1'), ('UK', '256', 'Q2'), ('UK', '256', 'Q3'), ('UK', '512', 'Q1'), ('UK', '512', 'Q2'), ('UK', '512', 'Q3')]\n"
     ]
    }
   ],
   "source": [
    "def AllPossibleQueues_Func():\n",
    "  result = []\n",
    "  for r in REGIONLIST:\n",
    "    if (r == \"ALL\"):\n",
    "      continue\n",
    "    for m in MODELLIST:\n",
    "      for e in ESTIMATELIST:\n",
    "        result.append((r,m,e))\n",
    "    \n",
    "  return result\n",
    "\n",
    "ALLPOSSIBLEQUEUES = AllPossibleQueues_Func()\n",
    "print(ALLPOSSIBLEQUEUES)"
   ]
  },
  {
   "cell_type": "code",
   "execution_count": 31,
   "id": "309a451c",
   "metadata": {},
   "outputs": [],
   "source": [
    "data = pd.read_excel('stds.xlsx')"
   ]
  },
  {
   "cell_type": "code",
   "execution_count": 32,
   "id": "39ed7af5",
   "metadata": {},
   "outputs": [
    {
     "data": {
      "text/html": [
       "<div>\n",
       "<style scoped>\n",
       "    .dataframe tbody tr th:only-of-type {\n",
       "        vertical-align: middle;\n",
       "    }\n",
       "\n",
       "    .dataframe tbody tr th {\n",
       "        vertical-align: top;\n",
       "    }\n",
       "\n",
       "    .dataframe thead th {\n",
       "        text-align: right;\n",
       "    }\n",
       "</style>\n",
       "<table border=\"1\" class=\"dataframe\">\n",
       "  <thead>\n",
       "    <tr style=\"text-align: right;\">\n",
       "      <th></th>\n",
       "      <th>Timestamp</th>\n",
       "      <th>Region</th>\n",
       "      <th>Model</th>\n",
       "      <th>rtReserveTime or preorder-email time</th>\n",
       "      <th>Initial Valve Estimate</th>\n",
       "      <th>Your most recent pre-order estimated time</th>\n",
       "      <th>When did you receive your ready to order email?</th>\n",
       "      <th>Unnamed: 7</th>\n",
       "    </tr>\n",
       "  </thead>\n",
       "  <tbody>\n",
       "    <tr>\n",
       "      <th>0</th>\n",
       "      <td>2022-02-25 13:21:39.764</td>\n",
       "      <td>US</td>\n",
       "      <td>256</td>\n",
       "      <td>1626454969</td>\n",
       "      <td>December</td>\n",
       "      <td>Q1</td>\n",
       "      <td>1.645813e+09</td>\n",
       "      <td>NaN</td>\n",
       "    </tr>\n",
       "    <tr>\n",
       "      <th>1</th>\n",
       "      <td>2022-02-09 14:50:45.171</td>\n",
       "      <td>UK</td>\n",
       "      <td>512</td>\n",
       "      <td>1635594996</td>\n",
       "      <td>After Q2</td>\n",
       "      <td>After Q2</td>\n",
       "      <td>NaN</td>\n",
       "      <td>NaN</td>\n",
       "    </tr>\n",
       "    <tr>\n",
       "      <th>2</th>\n",
       "      <td>2022-02-09 14:54:01.852</td>\n",
       "      <td>US</td>\n",
       "      <td>512</td>\n",
       "      <td>1626454856</td>\n",
       "      <td>December</td>\n",
       "      <td>Q1</td>\n",
       "      <td>NaN</td>\n",
       "      <td>NaN</td>\n",
       "    </tr>\n",
       "    <tr>\n",
       "      <th>3</th>\n",
       "      <td>2022-02-09 14:58:39.188</td>\n",
       "      <td>US</td>\n",
       "      <td>256</td>\n",
       "      <td>1644440188</td>\n",
       "      <td>Q1</td>\n",
       "      <td>Q2</td>\n",
       "      <td>NaN</td>\n",
       "      <td>NaN</td>\n",
       "    </tr>\n",
       "    <tr>\n",
       "      <th>4</th>\n",
       "      <td>2022-02-09 15:04:48.617</td>\n",
       "      <td>EU</td>\n",
       "      <td>256</td>\n",
       "      <td>1626478685</td>\n",
       "      <td>Q1</td>\n",
       "      <td>Q2</td>\n",
       "      <td>NaN</td>\n",
       "      <td>NaN</td>\n",
       "    </tr>\n",
       "  </tbody>\n",
       "</table>\n",
       "</div>"
      ],
      "text/plain": [
       "                Timestamp Region  Model  \\\n",
       "0 2022-02-25 13:21:39.764     US    256   \n",
       "1 2022-02-09 14:50:45.171     UK    512   \n",
       "2 2022-02-09 14:54:01.852     US    512   \n",
       "3 2022-02-09 14:58:39.188     US    256   \n",
       "4 2022-02-09 15:04:48.617     EU    256   \n",
       "\n",
       "   rtReserveTime or preorder-email time  Initial Valve Estimate  \\\n",
       "0                             1626454969               December   \n",
       "1                             1635594996               After Q2   \n",
       "2                             1626454856               December   \n",
       "3                             1644440188                     Q1   \n",
       "4                             1626478685                     Q1   \n",
       "\n",
       "  Your most recent pre-order estimated time  \\\n",
       "0                                        Q1   \n",
       "1                                  After Q2   \n",
       "2                                        Q1   \n",
       "3                                        Q2   \n",
       "4                                        Q2   \n",
       "\n",
       "   When did you receive your ready to order email?  Unnamed: 7  \n",
       "0                                     1.645813e+09         NaN  \n",
       "1                                              NaN         NaN  \n",
       "2                                              NaN         NaN  \n",
       "3                                              NaN         NaN  \n",
       "4                                              NaN         NaN  "
      ]
     },
     "execution_count": 32,
     "metadata": {},
     "output_type": "execute_result"
    }
   ],
   "source": [
    "data.head()"
   ]
  },
  {
   "cell_type": "code",
   "execution_count": 33,
   "id": "a89d3070",
   "metadata": {},
   "outputs": [
    {
     "name": "stdout",
     "output_type": "stream",
     "text": [
      "13 entries removed for having NA on vital fields\n",
      "\n"
     ]
    }
   ],
   "source": [
    "data.drop(columns=[\"Timestamp\", \"Initial Valve Estimate\", \"Unnamed: 7\"], inplace=True)\n",
    "data.rename(columns = {\"rtReserveTime or preorder-email time \": \"Timestamp\", \"Your most recent pre-order estimated time\":\"ValveEstimate\", \"When did you receive your ready to order email?\":\"TrueOrderTimestamp\"}, inplace=True)\n",
    "\n",
    "\n",
    "namask = data[\"Region\"].isna() | data[\"Model\"].isna() | data[\"ValveEstimate\"].isna() | data[\"Timestamp\"].isna() | data[\"ValveEstimate\"].isna()\n",
    "print(f\"{np.sum(namask)} entries removed for having NA on vital fields\\n\")\n",
    "data.drop(data[namask].index,inplace=True)"
   ]
  },
  {
   "cell_type": "code",
   "execution_count": 34,
   "id": "7c0c401f",
   "metadata": {},
   "outputs": [
    {
     "name": "stdout",
     "output_type": "stream",
     "text": [
      "764 entries removed for being \"After Q2\", \"After Q3\", or similar\n",
      "\n"
     ]
    }
   ],
   "source": [
    "#not valid for after Q2\n",
    "#data = data[data[\"ValveEstimate\"] != \"After Q2\"]\n",
    "notEstimable = np.vectorize(lambda x: x not in ESTIMATELIST)\n",
    "notEstimableMask = notEstimable(data[\"ValveEstimate\"])\n",
    "print(f\"{np.sum(notEstimableMask)} entries removed for being \\\"After Q2\\\", \\\"After Q3\\\", or similar\\n\")\n",
    "data.drop(data[notEstimableMask].index, inplace=True)"
   ]
  },
  {
   "cell_type": "code",
   "execution_count": 35,
   "id": "51740618",
   "metadata": {},
   "outputs": [
    {
     "name": "stdout",
     "output_type": "stream",
     "text": [
      "51 entries removed for being after Februrary 25th 10am PDT\n",
      "\n"
     ]
    }
   ],
   "source": [
    "#entries supposedly happening after feb 25th 10am PDT\n",
    "wrongUpdateMask = ((data[\"ValveEstimate\"] == \"Q1\") | (data[\"ValveEstimate\"] == \"Q2\") | (data[\"ValveEstimate\"] == \"Q3\")) & (data[\"Timestamp\"] >= 1645801200)\n",
    "print(f\"{np.sum(wrongUpdateMask)} entries removed for being after Februrary 25th 10am PDT\\n\")\n",
    "data.drop(data[wrongUpdateMask].index, inplace=True)"
   ]
  },
  {
   "cell_type": "code",
   "execution_count": 36,
   "id": "71d18dbd",
   "metadata": {},
   "outputs": [
    {
     "name": "stdout",
     "output_type": "stream",
     "text": [
      "0 entries removed for being before July 16th 10am PDT\n",
      "\n"
     ]
    }
   ],
   "source": [
    " #entries supposedly happening before july 16th 10am PDT\n",
    "cretinMask = data[\"Timestamp\"] < 1626454800\n",
    "print(f\"{np.sum(cretinMask)} entries removed for being before July 16th 10am PDT\\n\")\n",
    "data.drop(data[cretinMask].index, inplace=True)"
   ]
  },
  {
   "cell_type": "code",
   "execution_count": 37,
   "id": "387e926c",
   "metadata": {},
   "outputs": [
    {
     "data": {
      "text/html": [
       "<div>\n",
       "<style scoped>\n",
       "    .dataframe tbody tr th:only-of-type {\n",
       "        vertical-align: middle;\n",
       "    }\n",
       "\n",
       "    .dataframe tbody tr th {\n",
       "        vertical-align: top;\n",
       "    }\n",
       "\n",
       "    .dataframe thead th {\n",
       "        text-align: right;\n",
       "    }\n",
       "</style>\n",
       "<table border=\"1\" class=\"dataframe\">\n",
       "  <thead>\n",
       "    <tr style=\"text-align: right;\">\n",
       "      <th></th>\n",
       "      <th>Region</th>\n",
       "      <th>Model</th>\n",
       "      <th>Timestamp</th>\n",
       "      <th>ValveEstimate</th>\n",
       "      <th>TrueOrderTimestamp</th>\n",
       "    </tr>\n",
       "  </thead>\n",
       "  <tbody>\n",
       "    <tr>\n",
       "      <th>0</th>\n",
       "      <td>US</td>\n",
       "      <td>256</td>\n",
       "      <td>1626454969</td>\n",
       "      <td>Q1</td>\n",
       "      <td>1.645813e+09</td>\n",
       "    </tr>\n",
       "    <tr>\n",
       "      <th>2</th>\n",
       "      <td>US</td>\n",
       "      <td>512</td>\n",
       "      <td>1626454856</td>\n",
       "      <td>Q1</td>\n",
       "      <td>NaN</td>\n",
       "    </tr>\n",
       "    <tr>\n",
       "      <th>3</th>\n",
       "      <td>US</td>\n",
       "      <td>256</td>\n",
       "      <td>1644440188</td>\n",
       "      <td>Q2</td>\n",
       "      <td>NaN</td>\n",
       "    </tr>\n",
       "    <tr>\n",
       "      <th>4</th>\n",
       "      <td>EU</td>\n",
       "      <td>256</td>\n",
       "      <td>1626478685</td>\n",
       "      <td>Q2</td>\n",
       "      <td>NaN</td>\n",
       "    </tr>\n",
       "    <tr>\n",
       "      <th>5</th>\n",
       "      <td>US</td>\n",
       "      <td>512</td>\n",
       "      <td>1627423926</td>\n",
       "      <td>Q3</td>\n",
       "      <td>NaN</td>\n",
       "    </tr>\n",
       "  </tbody>\n",
       "</table>\n",
       "</div>"
      ],
      "text/plain": [
       "  Region  Model   Timestamp ValveEstimate  TrueOrderTimestamp\n",
       "0     US    256  1626454969            Q1        1.645813e+09\n",
       "2     US    512  1626454856            Q1                 NaN\n",
       "3     US    256  1644440188            Q2                 NaN\n",
       "4     EU    256  1626478685            Q2                 NaN\n",
       "5     US    512  1627423926            Q3                 NaN"
      ]
     },
     "execution_count": 37,
     "metadata": {},
     "output_type": "execute_result"
    }
   ],
   "source": [
    "data.head()"
   ]
  },
  {
   "cell_type": "code",
   "execution_count": 38,
   "id": "aa4b6d63",
   "metadata": {},
   "outputs": [],
   "source": [
    "  @np.vectorize\n",
    "  def digits(x):\n",
    "    if (np.isnan(x)):\n",
    "      return -1\n",
    "    \n",
    "    return int(np.log10(x))+1\n",
    "  \n",
    "  @np.vectorize\n",
    "  def convertTimestampToSeconds(x):\n",
    "    if (np.isnan(x)):\n",
    "      return np.nan\n",
    "    \n",
    "    l = digits(x)\n",
    "    if (l > 10 and (l - 10) % 3 == 0):\n",
    "      m = (l - 10) // 3\n",
    "      for _ in range(m):\n",
    "        x = x // 1000\n",
    "    \n",
    "    return x"
   ]
  },
  {
   "cell_type": "code",
   "execution_count": 39,
   "id": "5fd6f33e",
   "metadata": {},
   "outputs": [],
   "source": [
    "data[\"Timestamp\"] = convertTimestampToSeconds(data[\"Timestamp\"])\n",
    "data[\"TrueOrderTimestamp\"] = convertTimestampToSeconds(data[\"TrueOrderTimestamp\"])"
   ]
  },
  {
   "cell_type": "code",
   "execution_count": 40,
   "id": "2794483d",
   "metadata": {},
   "outputs": [],
   "source": [
    "data.to_csv(\"Data.csv\")"
   ]
  },
  {
   "cell_type": "code",
   "execution_count": 41,
   "id": "cb7dc8cf",
   "metadata": {},
   "outputs": [
    {
     "name": "stdout",
     "output_type": "stream",
     "text": [
      "2032 remove empty entries\n"
     ]
    }
   ],
   "source": [
    "removeEmpty = data[\"TrueOrderTimestamp\"].isna()\n",
    "print(f\"{np.sum(removeEmpty)} remove empty entries\")\n",
    "data.drop(data[removeEmpty].index, inplace=True)"
   ]
  },
  {
   "cell_type": "code",
   "execution_count": 43,
   "id": "afbb6891",
   "metadata": {},
   "outputs": [],
   "source": [
    "trainData = data.copy()"
   ]
  },
  {
   "cell_type": "code",
   "execution_count": 44,
   "id": "daf21b77",
   "metadata": {},
   "outputs": [],
   "source": [
    "trainData.dtypes\n",
    "trainData.to_csv(\"TrainData.csv\")"
   ]
  },
  {
   "cell_type": "code",
   "execution_count": 45,
   "id": "dee642df",
   "metadata": {},
   "outputs": [],
   "source": [
    "s = (trainData.dtypes == 'object')\n",
    "object_cols = list(s[s].index)"
   ]
  },
  {
   "cell_type": "code",
   "execution_count": 46,
   "id": "6cb9145d",
   "metadata": {},
   "outputs": [
    {
     "data": {
      "text/html": [
       "<div>\n",
       "<style scoped>\n",
       "    .dataframe tbody tr th:only-of-type {\n",
       "        vertical-align: middle;\n",
       "    }\n",
       "\n",
       "    .dataframe tbody tr th {\n",
       "        vertical-align: top;\n",
       "    }\n",
       "\n",
       "    .dataframe thead th {\n",
       "        text-align: right;\n",
       "    }\n",
       "</style>\n",
       "<table border=\"1\" class=\"dataframe\">\n",
       "  <thead>\n",
       "    <tr style=\"text-align: right;\">\n",
       "      <th></th>\n",
       "      <th>Region</th>\n",
       "      <th>Model</th>\n",
       "      <th>Timestamp</th>\n",
       "      <th>ValveEstimate</th>\n",
       "      <th>TrueOrderTimestamp</th>\n",
       "    </tr>\n",
       "  </thead>\n",
       "  <tbody>\n",
       "    <tr>\n",
       "      <th>0</th>\n",
       "      <td>US</td>\n",
       "      <td>256</td>\n",
       "      <td>1626454969</td>\n",
       "      <td>Q1</td>\n",
       "      <td>1.645813e+09</td>\n",
       "    </tr>\n",
       "    <tr>\n",
       "      <th>6</th>\n",
       "      <td>EU</td>\n",
       "      <td>512</td>\n",
       "      <td>1626454854</td>\n",
       "      <td>Q1</td>\n",
       "      <td>1.645813e+09</td>\n",
       "    </tr>\n",
       "    <tr>\n",
       "      <th>34</th>\n",
       "      <td>UK</td>\n",
       "      <td>256</td>\n",
       "      <td>1626455083</td>\n",
       "      <td>Q1</td>\n",
       "      <td>1.646675e+09</td>\n",
       "    </tr>\n",
       "    <tr>\n",
       "      <th>63</th>\n",
       "      <td>EU</td>\n",
       "      <td>64</td>\n",
       "      <td>1626464450</td>\n",
       "      <td>Q1</td>\n",
       "      <td>1.647279e+09</td>\n",
       "    </tr>\n",
       "    <tr>\n",
       "      <th>101</th>\n",
       "      <td>EU</td>\n",
       "      <td>512</td>\n",
       "      <td>1626455384</td>\n",
       "      <td>Q1</td>\n",
       "      <td>1.646675e+09</td>\n",
       "    </tr>\n",
       "    <tr>\n",
       "      <th>...</th>\n",
       "      <td>...</td>\n",
       "      <td>...</td>\n",
       "      <td>...</td>\n",
       "      <td>...</td>\n",
       "      <td>...</td>\n",
       "    </tr>\n",
       "    <tr>\n",
       "      <th>2587</th>\n",
       "      <td>US</td>\n",
       "      <td>512</td>\n",
       "      <td>1626455224</td>\n",
       "      <td>Q1</td>\n",
       "      <td>1.647881e+09</td>\n",
       "    </tr>\n",
       "    <tr>\n",
       "      <th>2588</th>\n",
       "      <td>US</td>\n",
       "      <td>256</td>\n",
       "      <td>1626455468</td>\n",
       "      <td>Q1</td>\n",
       "      <td>1.647880e+09</td>\n",
       "    </tr>\n",
       "    <tr>\n",
       "      <th>2616</th>\n",
       "      <td>EU</td>\n",
       "      <td>256</td>\n",
       "      <td>1626463800</td>\n",
       "      <td>Q1</td>\n",
       "      <td>1.647881e+09</td>\n",
       "    </tr>\n",
       "    <tr>\n",
       "      <th>2628</th>\n",
       "      <td>US</td>\n",
       "      <td>256</td>\n",
       "      <td>1626455340</td>\n",
       "      <td>Q1</td>\n",
       "      <td>1.647971e+09</td>\n",
       "    </tr>\n",
       "    <tr>\n",
       "      <th>2742</th>\n",
       "      <td>US</td>\n",
       "      <td>512</td>\n",
       "      <td>1626898903</td>\n",
       "      <td>Q3</td>\n",
       "      <td>1.647981e+09</td>\n",
       "    </tr>\n",
       "  </tbody>\n",
       "</table>\n",
       "<p>73 rows × 5 columns</p>\n",
       "</div>"
      ],
      "text/plain": [
       "     Region  Model   Timestamp ValveEstimate  TrueOrderTimestamp\n",
       "0        US    256  1626454969            Q1        1.645813e+09\n",
       "6        EU    512  1626454854            Q1        1.645813e+09\n",
       "34       UK    256  1626455083            Q1        1.646675e+09\n",
       "63       EU     64  1626464450            Q1        1.647279e+09\n",
       "101      EU    512  1626455384            Q1        1.646675e+09\n",
       "...     ...    ...         ...           ...                 ...\n",
       "2587     US    512  1626455224            Q1        1.647881e+09\n",
       "2588     US    256  1626455468            Q1        1.647880e+09\n",
       "2616     EU    256  1626463800            Q1        1.647881e+09\n",
       "2628     US    256  1626455340            Q1        1.647971e+09\n",
       "2742     US    512  1626898903            Q3        1.647981e+09\n",
       "\n",
       "[73 rows x 5 columns]"
      ]
     },
     "execution_count": 46,
     "metadata": {},
     "output_type": "execute_result"
    }
   ],
   "source": [
    "trainData"
   ]
  },
  {
   "cell_type": "code",
   "execution_count": 47,
   "id": "6b744248",
   "metadata": {},
   "outputs": [],
   "source": [
    "# from sklearn.preprocessing import OneHotEncoder\n",
    "\n",
    "# OH_encoder = OneHotEncoder(handle_unknown='ignore', sparse=False)\n",
    "# trainData_oh = pd.DataFrame(OH_encoder.fit_transform(trainData[object_cols]))\n",
    "# trainData_c = trainData.drop(object_cols, axis=1)\n",
    "# trainData_c = pd.concat([trainData_c, trainData_oh], axis=1)\n",
    "# trainData = trainData_c"
   ]
  },
  {
   "cell_type": "code",
   "execution_count": 48,
   "id": "59ab053b",
   "metadata": {},
   "outputs": [
    {
     "data": {
      "text/html": [
       "<div>\n",
       "<style scoped>\n",
       "    .dataframe tbody tr th:only-of-type {\n",
       "        vertical-align: middle;\n",
       "    }\n",
       "\n",
       "    .dataframe tbody tr th {\n",
       "        vertical-align: top;\n",
       "    }\n",
       "\n",
       "    .dataframe thead th {\n",
       "        text-align: right;\n",
       "    }\n",
       "</style>\n",
       "<table border=\"1\" class=\"dataframe\">\n",
       "  <thead>\n",
       "    <tr style=\"text-align: right;\">\n",
       "      <th></th>\n",
       "      <th>Region</th>\n",
       "      <th>Model</th>\n",
       "      <th>Timestamp</th>\n",
       "      <th>ValveEstimate</th>\n",
       "      <th>TrueOrderTimestamp</th>\n",
       "    </tr>\n",
       "  </thead>\n",
       "  <tbody>\n",
       "    <tr>\n",
       "      <th>0</th>\n",
       "      <td>US</td>\n",
       "      <td>256</td>\n",
       "      <td>1626454969</td>\n",
       "      <td>Q1</td>\n",
       "      <td>1.645813e+09</td>\n",
       "    </tr>\n",
       "    <tr>\n",
       "      <th>6</th>\n",
       "      <td>EU</td>\n",
       "      <td>512</td>\n",
       "      <td>1626454854</td>\n",
       "      <td>Q1</td>\n",
       "      <td>1.645813e+09</td>\n",
       "    </tr>\n",
       "    <tr>\n",
       "      <th>34</th>\n",
       "      <td>UK</td>\n",
       "      <td>256</td>\n",
       "      <td>1626455083</td>\n",
       "      <td>Q1</td>\n",
       "      <td>1.646675e+09</td>\n",
       "    </tr>\n",
       "    <tr>\n",
       "      <th>63</th>\n",
       "      <td>EU</td>\n",
       "      <td>64</td>\n",
       "      <td>1626464450</td>\n",
       "      <td>Q1</td>\n",
       "      <td>1.647279e+09</td>\n",
       "    </tr>\n",
       "    <tr>\n",
       "      <th>101</th>\n",
       "      <td>EU</td>\n",
       "      <td>512</td>\n",
       "      <td>1626455384</td>\n",
       "      <td>Q1</td>\n",
       "      <td>1.646675e+09</td>\n",
       "    </tr>\n",
       "    <tr>\n",
       "      <th>...</th>\n",
       "      <td>...</td>\n",
       "      <td>...</td>\n",
       "      <td>...</td>\n",
       "      <td>...</td>\n",
       "      <td>...</td>\n",
       "    </tr>\n",
       "    <tr>\n",
       "      <th>2587</th>\n",
       "      <td>US</td>\n",
       "      <td>512</td>\n",
       "      <td>1626455224</td>\n",
       "      <td>Q1</td>\n",
       "      <td>1.647881e+09</td>\n",
       "    </tr>\n",
       "    <tr>\n",
       "      <th>2588</th>\n",
       "      <td>US</td>\n",
       "      <td>256</td>\n",
       "      <td>1626455468</td>\n",
       "      <td>Q1</td>\n",
       "      <td>1.647880e+09</td>\n",
       "    </tr>\n",
       "    <tr>\n",
       "      <th>2616</th>\n",
       "      <td>EU</td>\n",
       "      <td>256</td>\n",
       "      <td>1626463800</td>\n",
       "      <td>Q1</td>\n",
       "      <td>1.647881e+09</td>\n",
       "    </tr>\n",
       "    <tr>\n",
       "      <th>2628</th>\n",
       "      <td>US</td>\n",
       "      <td>256</td>\n",
       "      <td>1626455340</td>\n",
       "      <td>Q1</td>\n",
       "      <td>1.647971e+09</td>\n",
       "    </tr>\n",
       "    <tr>\n",
       "      <th>2742</th>\n",
       "      <td>US</td>\n",
       "      <td>512</td>\n",
       "      <td>1626898903</td>\n",
       "      <td>Q3</td>\n",
       "      <td>1.647981e+09</td>\n",
       "    </tr>\n",
       "  </tbody>\n",
       "</table>\n",
       "<p>73 rows × 5 columns</p>\n",
       "</div>"
      ],
      "text/plain": [
       "     Region  Model   Timestamp ValveEstimate  TrueOrderTimestamp\n",
       "0        US    256  1626454969            Q1        1.645813e+09\n",
       "6        EU    512  1626454854            Q1        1.645813e+09\n",
       "34       UK    256  1626455083            Q1        1.646675e+09\n",
       "63       EU     64  1626464450            Q1        1.647279e+09\n",
       "101      EU    512  1626455384            Q1        1.646675e+09\n",
       "...     ...    ...         ...           ...                 ...\n",
       "2587     US    512  1626455224            Q1        1.647881e+09\n",
       "2588     US    256  1626455468            Q1        1.647880e+09\n",
       "2616     EU    256  1626463800            Q1        1.647881e+09\n",
       "2628     US    256  1626455340            Q1        1.647971e+09\n",
       "2742     US    512  1626898903            Q3        1.647981e+09\n",
       "\n",
       "[73 rows x 5 columns]"
      ]
     },
     "execution_count": 48,
     "metadata": {},
     "output_type": "execute_result"
    }
   ],
   "source": [
    "#Get the object columns and use ordinal encoder \n",
    "from sklearn.preprocessing import OrdinalEncoder\n",
    "\n",
    "ordinal_encoder = OrdinalEncoder()\n",
    "trainData_copy = trainData.copy()\n",
    "\n",
    "trainData_copy"
   ]
  },
  {
   "cell_type": "code",
   "execution_count": 49,
   "id": "94c714c0",
   "metadata": {},
   "outputs": [],
   "source": [
    "trainData_copy[object_cols] = ordinal_encoder.fit_transform(trainData[object_cols])\n",
    "# namask = trainData[0].isna()\n",
    "# print(f\"{np.sum(namask)} entries removed for having NA on vital fields\\n\")\n",
    "# trainData.drop(data[namask].index,inplace=True)"
   ]
  },
  {
   "cell_type": "code",
   "execution_count": 50,
   "id": "8c5786a0",
   "metadata": {},
   "outputs": [
    {
     "data": {
      "text/html": [
       "<div>\n",
       "<style scoped>\n",
       "    .dataframe tbody tr th:only-of-type {\n",
       "        vertical-align: middle;\n",
       "    }\n",
       "\n",
       "    .dataframe tbody tr th {\n",
       "        vertical-align: top;\n",
       "    }\n",
       "\n",
       "    .dataframe thead th {\n",
       "        text-align: right;\n",
       "    }\n",
       "</style>\n",
       "<table border=\"1\" class=\"dataframe\">\n",
       "  <thead>\n",
       "    <tr style=\"text-align: right;\">\n",
       "      <th></th>\n",
       "      <th>Region</th>\n",
       "      <th>ValveEstimate</th>\n",
       "    </tr>\n",
       "  </thead>\n",
       "  <tbody>\n",
       "    <tr>\n",
       "      <th>0</th>\n",
       "      <td>2.0</td>\n",
       "      <td>0.0</td>\n",
       "    </tr>\n",
       "    <tr>\n",
       "      <th>6</th>\n",
       "      <td>0.0</td>\n",
       "      <td>0.0</td>\n",
       "    </tr>\n",
       "    <tr>\n",
       "      <th>34</th>\n",
       "      <td>1.0</td>\n",
       "      <td>0.0</td>\n",
       "    </tr>\n",
       "    <tr>\n",
       "      <th>63</th>\n",
       "      <td>0.0</td>\n",
       "      <td>0.0</td>\n",
       "    </tr>\n",
       "    <tr>\n",
       "      <th>101</th>\n",
       "      <td>0.0</td>\n",
       "      <td>0.0</td>\n",
       "    </tr>\n",
       "    <tr>\n",
       "      <th>...</th>\n",
       "      <td>...</td>\n",
       "      <td>...</td>\n",
       "    </tr>\n",
       "    <tr>\n",
       "      <th>2587</th>\n",
       "      <td>2.0</td>\n",
       "      <td>0.0</td>\n",
       "    </tr>\n",
       "    <tr>\n",
       "      <th>2588</th>\n",
       "      <td>2.0</td>\n",
       "      <td>0.0</td>\n",
       "    </tr>\n",
       "    <tr>\n",
       "      <th>2616</th>\n",
       "      <td>0.0</td>\n",
       "      <td>0.0</td>\n",
       "    </tr>\n",
       "    <tr>\n",
       "      <th>2628</th>\n",
       "      <td>2.0</td>\n",
       "      <td>0.0</td>\n",
       "    </tr>\n",
       "    <tr>\n",
       "      <th>2742</th>\n",
       "      <td>2.0</td>\n",
       "      <td>2.0</td>\n",
       "    </tr>\n",
       "  </tbody>\n",
       "</table>\n",
       "<p>73 rows × 2 columns</p>\n",
       "</div>"
      ],
      "text/plain": [
       "      Region  ValveEstimate\n",
       "0        2.0            0.0\n",
       "6        0.0            0.0\n",
       "34       1.0            0.0\n",
       "63       0.0            0.0\n",
       "101      0.0            0.0\n",
       "...      ...            ...\n",
       "2587     2.0            0.0\n",
       "2588     2.0            0.0\n",
       "2616     0.0            0.0\n",
       "2628     2.0            0.0\n",
       "2742     2.0            2.0\n",
       "\n",
       "[73 rows x 2 columns]"
      ]
     },
     "execution_count": 50,
     "metadata": {},
     "output_type": "execute_result"
    }
   ],
   "source": [
    "trainData_copy[object_cols]\n",
    "# trainData_copy = trainData.copy()\n",
    "# trainData_copy"
   ]
  },
  {
   "cell_type": "code",
   "execution_count": 51,
   "id": "d64694e2",
   "metadata": {},
   "outputs": [],
   "source": [
    "features = [\"Region\", \"Model\", \"Timestamp\", \"ValveEstimate\"]\n",
    "X = trainData_copy[features].copy()"
   ]
  },
  {
   "cell_type": "code",
   "execution_count": 52,
   "id": "5a5a8ba5",
   "metadata": {},
   "outputs": [
    {
     "data": {
      "text/html": [
       "<div>\n",
       "<style scoped>\n",
       "    .dataframe tbody tr th:only-of-type {\n",
       "        vertical-align: middle;\n",
       "    }\n",
       "\n",
       "    .dataframe tbody tr th {\n",
       "        vertical-align: top;\n",
       "    }\n",
       "\n",
       "    .dataframe thead th {\n",
       "        text-align: right;\n",
       "    }\n",
       "</style>\n",
       "<table border=\"1\" class=\"dataframe\">\n",
       "  <thead>\n",
       "    <tr style=\"text-align: right;\">\n",
       "      <th></th>\n",
       "      <th>Region</th>\n",
       "      <th>Model</th>\n",
       "      <th>Timestamp</th>\n",
       "      <th>ValveEstimate</th>\n",
       "    </tr>\n",
       "  </thead>\n",
       "  <tbody>\n",
       "    <tr>\n",
       "      <th>0</th>\n",
       "      <td>2.0</td>\n",
       "      <td>256</td>\n",
       "      <td>1626454969</td>\n",
       "      <td>0.0</td>\n",
       "    </tr>\n",
       "    <tr>\n",
       "      <th>6</th>\n",
       "      <td>0.0</td>\n",
       "      <td>512</td>\n",
       "      <td>1626454854</td>\n",
       "      <td>0.0</td>\n",
       "    </tr>\n",
       "    <tr>\n",
       "      <th>34</th>\n",
       "      <td>1.0</td>\n",
       "      <td>256</td>\n",
       "      <td>1626455083</td>\n",
       "      <td>0.0</td>\n",
       "    </tr>\n",
       "    <tr>\n",
       "      <th>63</th>\n",
       "      <td>0.0</td>\n",
       "      <td>64</td>\n",
       "      <td>1626464450</td>\n",
       "      <td>0.0</td>\n",
       "    </tr>\n",
       "    <tr>\n",
       "      <th>101</th>\n",
       "      <td>0.0</td>\n",
       "      <td>512</td>\n",
       "      <td>1626455384</td>\n",
       "      <td>0.0</td>\n",
       "    </tr>\n",
       "    <tr>\n",
       "      <th>...</th>\n",
       "      <td>...</td>\n",
       "      <td>...</td>\n",
       "      <td>...</td>\n",
       "      <td>...</td>\n",
       "    </tr>\n",
       "    <tr>\n",
       "      <th>2587</th>\n",
       "      <td>2.0</td>\n",
       "      <td>512</td>\n",
       "      <td>1626455224</td>\n",
       "      <td>0.0</td>\n",
       "    </tr>\n",
       "    <tr>\n",
       "      <th>2588</th>\n",
       "      <td>2.0</td>\n",
       "      <td>256</td>\n",
       "      <td>1626455468</td>\n",
       "      <td>0.0</td>\n",
       "    </tr>\n",
       "    <tr>\n",
       "      <th>2616</th>\n",
       "      <td>0.0</td>\n",
       "      <td>256</td>\n",
       "      <td>1626463800</td>\n",
       "      <td>0.0</td>\n",
       "    </tr>\n",
       "    <tr>\n",
       "      <th>2628</th>\n",
       "      <td>2.0</td>\n",
       "      <td>256</td>\n",
       "      <td>1626455340</td>\n",
       "      <td>0.0</td>\n",
       "    </tr>\n",
       "    <tr>\n",
       "      <th>2742</th>\n",
       "      <td>2.0</td>\n",
       "      <td>512</td>\n",
       "      <td>1626898903</td>\n",
       "      <td>2.0</td>\n",
       "    </tr>\n",
       "  </tbody>\n",
       "</table>\n",
       "<p>73 rows × 4 columns</p>\n",
       "</div>"
      ],
      "text/plain": [
       "      Region  Model   Timestamp  ValveEstimate\n",
       "0        2.0    256  1626454969            0.0\n",
       "6        0.0    512  1626454854            0.0\n",
       "34       1.0    256  1626455083            0.0\n",
       "63       0.0     64  1626464450            0.0\n",
       "101      0.0    512  1626455384            0.0\n",
       "...      ...    ...         ...            ...\n",
       "2587     2.0    512  1626455224            0.0\n",
       "2588     2.0    256  1626455468            0.0\n",
       "2616     0.0    256  1626463800            0.0\n",
       "2628     2.0    256  1626455340            0.0\n",
       "2742     2.0    512  1626898903            2.0\n",
       "\n",
       "[73 rows x 4 columns]"
      ]
     },
     "execution_count": 52,
     "metadata": {},
     "output_type": "execute_result"
    }
   ],
   "source": [
    "X"
   ]
  },
  {
   "cell_type": "code",
   "execution_count": 53,
   "id": "0058dc7e",
   "metadata": {},
   "outputs": [],
   "source": [
    "y_features = [\"TrueOrderTimestamp\"]\n",
    "y = trainData_copy[y_features].copy()"
   ]
  },
  {
   "cell_type": "code",
   "execution_count": 54,
   "id": "d31ac589",
   "metadata": {},
   "outputs": [
    {
     "data": {
      "text/html": [
       "<div>\n",
       "<style scoped>\n",
       "    .dataframe tbody tr th:only-of-type {\n",
       "        vertical-align: middle;\n",
       "    }\n",
       "\n",
       "    .dataframe tbody tr th {\n",
       "        vertical-align: top;\n",
       "    }\n",
       "\n",
       "    .dataframe thead th {\n",
       "        text-align: right;\n",
       "    }\n",
       "</style>\n",
       "<table border=\"1\" class=\"dataframe\">\n",
       "  <thead>\n",
       "    <tr style=\"text-align: right;\">\n",
       "      <th></th>\n",
       "      <th>TrueOrderTimestamp</th>\n",
       "    </tr>\n",
       "  </thead>\n",
       "  <tbody>\n",
       "    <tr>\n",
       "      <th>0</th>\n",
       "      <td>1.645813e+09</td>\n",
       "    </tr>\n",
       "    <tr>\n",
       "      <th>6</th>\n",
       "      <td>1.645813e+09</td>\n",
       "    </tr>\n",
       "    <tr>\n",
       "      <th>34</th>\n",
       "      <td>1.646675e+09</td>\n",
       "    </tr>\n",
       "    <tr>\n",
       "      <th>63</th>\n",
       "      <td>1.647279e+09</td>\n",
       "    </tr>\n",
       "    <tr>\n",
       "      <th>101</th>\n",
       "      <td>1.646675e+09</td>\n",
       "    </tr>\n",
       "    <tr>\n",
       "      <th>...</th>\n",
       "      <td>...</td>\n",
       "    </tr>\n",
       "    <tr>\n",
       "      <th>2587</th>\n",
       "      <td>1.647881e+09</td>\n",
       "    </tr>\n",
       "    <tr>\n",
       "      <th>2588</th>\n",
       "      <td>1.647880e+09</td>\n",
       "    </tr>\n",
       "    <tr>\n",
       "      <th>2616</th>\n",
       "      <td>1.647881e+09</td>\n",
       "    </tr>\n",
       "    <tr>\n",
       "      <th>2628</th>\n",
       "      <td>1.647971e+09</td>\n",
       "    </tr>\n",
       "    <tr>\n",
       "      <th>2742</th>\n",
       "      <td>1.647981e+09</td>\n",
       "    </tr>\n",
       "  </tbody>\n",
       "</table>\n",
       "<p>73 rows × 1 columns</p>\n",
       "</div>"
      ],
      "text/plain": [
       "      TrueOrderTimestamp\n",
       "0           1.645813e+09\n",
       "6           1.645813e+09\n",
       "34          1.646675e+09\n",
       "63          1.647279e+09\n",
       "101         1.646675e+09\n",
       "...                  ...\n",
       "2587        1.647881e+09\n",
       "2588        1.647880e+09\n",
       "2616        1.647881e+09\n",
       "2628        1.647971e+09\n",
       "2742        1.647981e+09\n",
       "\n",
       "[73 rows x 1 columns]"
      ]
     },
     "execution_count": 54,
     "metadata": {},
     "output_type": "execute_result"
    }
   ],
   "source": [
    "y"
   ]
  },
  {
   "cell_type": "code",
   "execution_count": 55,
   "id": "6ba0d3df",
   "metadata": {},
   "outputs": [],
   "source": [
    "#Do a test train split\n",
    "from sklearn.model_selection import train_test_split\n",
    "\n",
    "X_train, X_valid, y_train, y_valid = train_test_split(X, y, train_size=0.8, test_size=0.2,\n",
    "                                                      random_state=0)"
   ]
  },
  {
   "cell_type": "code",
   "execution_count": 65,
   "id": "b3358e9a",
   "metadata": {},
   "outputs": [
    {
     "data": {
      "text/plain": [
       "73"
      ]
     },
     "execution_count": 65,
     "metadata": {},
     "output_type": "execute_result"
    }
   ],
   "source": [
    "#use linear regression to train the model and score the accuracy of the model\n",
    "model = LinearRegression()\n",
    "model = LinearRegression().fit(X, y)\n",
    "\n",
    "len(X)"
   ]
  },
  {
   "cell_type": "code",
   "execution_count": 58,
   "id": "de72d5a3",
   "metadata": {},
   "outputs": [
    {
     "name": "stdout",
     "output_type": "stream",
     "text": [
      "-10872452.092036828\n"
     ]
    }
   ],
   "source": [
    "r_sq = model.score(X_valid, y_valid)\n",
    "print(r_sq)"
   ]
  },
  {
   "cell_type": "code",
   "execution_count": 59,
   "id": "46a4d1d2",
   "metadata": {},
   "outputs": [
    {
     "name": "stdout",
     "output_type": "stream",
     "text": [
      "6539404406.541667\n"
     ]
    }
   ],
   "source": [
    "from sklearn.metrics import mean_absolute_error\n",
    "\n",
    "preds = model.predict(X_valid)\n",
    "print(mean_absolute_error(y_valid, preds))\n"
   ]
  },
  {
   "cell_type": "code",
   "execution_count": 61,
   "id": "b964e651",
   "metadata": {},
   "outputs": [
    {
     "name": "stdout",
     "output_type": "stream",
     "text": [
      "9202936829712\n"
     ]
    }
   ],
   "source": [
    "#Region\tModel\tTimestamp\tValveEstimate\n",
    "d = {'Region': 1.0, 'Model': 512, \"TimeStamp\": 1646688423, \"ValveEstimate\": 0.0}\n",
    "df = pd.DataFrame(data=d, index=[755])\n",
    "\n",
    "res  = model.predict(df)\n",
    "print(\"{0:.0f}\".format(res[0][0]))\n"
   ]
  },
  {
   "cell_type": "code",
   "execution_count": 63,
   "id": "6f51e37d",
   "metadata": {},
   "outputs": [
    {
     "ename": "DataConversionWarning",
     "evalue": "A column-vector y was passed when a 1d array was expected. Please change the shape of y to (n_samples,), for example using ravel().",
     "output_type": "error",
     "traceback": [
      "\u001b[1;31m---------------------------------------------------------------------------\u001b[0m",
      "\u001b[1;31mDataConversionWarning\u001b[0m                     Traceback (most recent call last)",
      "\u001b[1;32m<ipython-input-63-5e335b05c8c9>\u001b[0m in \u001b[0;36m<module>\u001b[1;34m\u001b[0m\n\u001b[0;32m      2\u001b[0m \u001b[1;33m\u001b[0m\u001b[0m\n\u001b[0;32m      3\u001b[0m \u001b[0mrf\u001b[0m \u001b[1;33m=\u001b[0m \u001b[0mRandomForestClassifier\u001b[0m\u001b[1;33m(\u001b[0m\u001b[0mn_estimators\u001b[0m\u001b[1;33m=\u001b[0m\u001b[1;36m100\u001b[0m\u001b[1;33m)\u001b[0m\u001b[1;33m\u001b[0m\u001b[1;33m\u001b[0m\u001b[0m\n\u001b[1;32m----> 4\u001b[1;33m \u001b[0mrf\u001b[0m\u001b[1;33m.\u001b[0m\u001b[0mfit\u001b[0m\u001b[1;33m(\u001b[0m\u001b[0mX\u001b[0m\u001b[1;33m,\u001b[0m \u001b[0my\u001b[0m\u001b[1;33m)\u001b[0m\u001b[1;33m\u001b[0m\u001b[1;33m\u001b[0m\u001b[0m\n\u001b[0m",
      "\u001b[1;32mC:\\ProgramData\\Anaconda3\\lib\\site-packages\\sklearn\\ensemble\\_forest.py\u001b[0m in \u001b[0;36mfit\u001b[1;34m(self, X, y, sample_weight)\u001b[0m\n\u001b[0;32m    317\u001b[0m         \u001b[0my\u001b[0m \u001b[1;33m=\u001b[0m \u001b[0mnp\u001b[0m\u001b[1;33m.\u001b[0m\u001b[0matleast_1d\u001b[0m\u001b[1;33m(\u001b[0m\u001b[0my\u001b[0m\u001b[1;33m)\u001b[0m\u001b[1;33m\u001b[0m\u001b[1;33m\u001b[0m\u001b[0m\n\u001b[0;32m    318\u001b[0m         \u001b[1;32mif\u001b[0m \u001b[0my\u001b[0m\u001b[1;33m.\u001b[0m\u001b[0mndim\u001b[0m \u001b[1;33m==\u001b[0m \u001b[1;36m2\u001b[0m \u001b[1;32mand\u001b[0m \u001b[0my\u001b[0m\u001b[1;33m.\u001b[0m\u001b[0mshape\u001b[0m\u001b[1;33m[\u001b[0m\u001b[1;36m1\u001b[0m\u001b[1;33m]\u001b[0m \u001b[1;33m==\u001b[0m \u001b[1;36m1\u001b[0m\u001b[1;33m:\u001b[0m\u001b[1;33m\u001b[0m\u001b[1;33m\u001b[0m\u001b[0m\n\u001b[1;32m--> 319\u001b[1;33m             warn(\"A column-vector y was passed when a 1d array was\"\n\u001b[0m\u001b[0;32m    320\u001b[0m                  \u001b[1;34m\" expected. Please change the shape of y to \"\u001b[0m\u001b[1;33m\u001b[0m\u001b[1;33m\u001b[0m\u001b[0m\n\u001b[0;32m    321\u001b[0m                  \u001b[1;34m\"(n_samples,), for example using ravel().\"\u001b[0m\u001b[1;33m,\u001b[0m\u001b[1;33m\u001b[0m\u001b[1;33m\u001b[0m\u001b[0m\n",
      "\u001b[1;31mDataConversionWarning\u001b[0m: A column-vector y was passed when a 1d array was expected. Please change the shape of y to (n_samples,), for example using ravel()."
     ]
    }
   ],
   "source": [
    "from sklearn.ensemble import RandomForestClassifier\n",
    "\n",
    "rf = RandomForestClassifier(n_estimators=100)\n",
    "rf.fit(X, y.values.ravel())"
   ]
  },
  {
   "cell_type": "code",
   "execution_count": null,
   "id": "0f717a85",
   "metadata": {},
   "outputs": [],
   "source": [
    "r_sq = rf.score(X_valid, y_valid.values.ravel())\n",
    "print(r_sq)"
   ]
  }
 ],
 "metadata": {
  "kernelspec": {
   "display_name": "Python 3",
   "language": "python",
   "name": "python3"
  },
  "language_info": {
   "codemirror_mode": {
    "name": "ipython",
    "version": 3
   },
   "file_extension": ".py",
   "mimetype": "text/x-python",
   "name": "python",
   "nbconvert_exporter": "python",
   "pygments_lexer": "ipython3",
   "version": "3.8.8"
  }
 },
 "nbformat": 4,
 "nbformat_minor": 5
}
