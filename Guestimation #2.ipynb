{
 "cells": [
  {
   "cell_type": "code",
   "execution_count": 1,
   "id": "58d931a9",
   "metadata": {},
   "outputs": [],
   "source": [
    "import numpy as np\n",
    "import pandas as pd\n",
    "import scipy.stats as stats\n",
    "import matplotlib.pyplot as plt\n",
    "import math\n",
    "from datetime import datetime\n",
    "import time\n",
    "import IPython\n",
    "import os\n",
    "import threading\n",
    "from sklearn.linear_model import LinearRegression\n",
    "\n",
    "import warnings\n",
    "warnings.filterwarnings('error', category=UserWarning)"
   ]
  },
  {
   "cell_type": "code",
   "execution_count": 2,
   "id": "3cfca719",
   "metadata": {},
   "outputs": [],
   "source": [
    "REGIONLIST= [\"US\", \"EU\", \"UK\"]\n",
    "MODELLIST = [\"64\", \"256\", \"512\"]\n",
    "ESTIMATELIST = [\"Q1\",\"Q2\", \"Q3\"]"
   ]
  },
  {
   "cell_type": "code",
   "execution_count": 3,
   "id": "66efcd50",
   "metadata": {},
   "outputs": [
    {
     "name": "stdout",
     "output_type": "stream",
     "text": [
      "[('US', '64', 'Q1'), ('US', '64', 'Q2'), ('US', '64', 'Q3'), ('US', '256', 'Q1'), ('US', '256', 'Q2'), ('US', '256', 'Q3'), ('US', '512', 'Q1'), ('US', '512', 'Q2'), ('US', '512', 'Q3'), ('EU', '64', 'Q1'), ('EU', '64', 'Q2'), ('EU', '64', 'Q3'), ('EU', '256', 'Q1'), ('EU', '256', 'Q2'), ('EU', '256', 'Q3'), ('EU', '512', 'Q1'), ('EU', '512', 'Q2'), ('EU', '512', 'Q3'), ('UK', '64', 'Q1'), ('UK', '64', 'Q2'), ('UK', '64', 'Q3'), ('UK', '256', 'Q1'), ('UK', '256', 'Q2'), ('UK', '256', 'Q3'), ('UK', '512', 'Q1'), ('UK', '512', 'Q2'), ('UK', '512', 'Q3')]\n"
     ]
    }
   ],
   "source": [
    "def AllPossibleQueues_Func():\n",
    "  result = []\n",
    "  for r in REGIONLIST:\n",
    "    if (r == \"ALL\"):\n",
    "      continue\n",
    "    for m in MODELLIST:\n",
    "      for e in ESTIMATELIST:\n",
    "        result.append((r,m,e))\n",
    "    \n",
    "  return result\n",
    "\n",
    "ALLPOSSIBLEQUEUES = AllPossibleQueues_Func()\n",
    "print(ALLPOSSIBLEQUEUES)"
   ]
  },
  {
   "cell_type": "code",
   "execution_count": 4,
   "id": "03649e33",
   "metadata": {},
   "outputs": [],
   "source": [
    "data = pd.read_excel('stdss.xlsx')"
   ]
  },
  {
   "cell_type": "code",
   "execution_count": 5,
   "id": "d6f658da",
   "metadata": {},
   "outputs": [
    {
     "data": {
      "text/html": [
       "<div>\n",
       "<style scoped>\n",
       "    .dataframe tbody tr th:only-of-type {\n",
       "        vertical-align: middle;\n",
       "    }\n",
       "\n",
       "    .dataframe tbody tr th {\n",
       "        vertical-align: top;\n",
       "    }\n",
       "\n",
       "    .dataframe thead th {\n",
       "        text-align: right;\n",
       "    }\n",
       "</style>\n",
       "<table border=\"1\" class=\"dataframe\">\n",
       "  <thead>\n",
       "    <tr style=\"text-align: right;\">\n",
       "      <th></th>\n",
       "      <th>Timestamp</th>\n",
       "      <th>Region</th>\n",
       "      <th>Model</th>\n",
       "      <th>rtReserveTime or preorder-email time</th>\n",
       "      <th>Initial Valve Estimate</th>\n",
       "      <th>Your most recent pre-order estimated time</th>\n",
       "      <th>When did you receive your ready to order email?</th>\n",
       "      <th>Unnamed: 7</th>\n",
       "    </tr>\n",
       "  </thead>\n",
       "  <tbody>\n",
       "    <tr>\n",
       "      <th>0</th>\n",
       "      <td>2022-02-25 13:21:39.764</td>\n",
       "      <td>US</td>\n",
       "      <td>256</td>\n",
       "      <td>1626454969</td>\n",
       "      <td>December</td>\n",
       "      <td>Q1</td>\n",
       "      <td>1.645813e+09</td>\n",
       "      <td>NaN</td>\n",
       "    </tr>\n",
       "    <tr>\n",
       "      <th>1</th>\n",
       "      <td>2022-02-09 14:50:45.171</td>\n",
       "      <td>UK</td>\n",
       "      <td>512</td>\n",
       "      <td>1635594996</td>\n",
       "      <td>After Q2</td>\n",
       "      <td>After Q2</td>\n",
       "      <td>NaN</td>\n",
       "      <td>NaN</td>\n",
       "    </tr>\n",
       "    <tr>\n",
       "      <th>2</th>\n",
       "      <td>2022-02-09 14:54:01.852</td>\n",
       "      <td>US</td>\n",
       "      <td>512</td>\n",
       "      <td>1626454856</td>\n",
       "      <td>December</td>\n",
       "      <td>Q1</td>\n",
       "      <td>NaN</td>\n",
       "      <td>NaN</td>\n",
       "    </tr>\n",
       "    <tr>\n",
       "      <th>3</th>\n",
       "      <td>2022-02-09 14:58:39.188</td>\n",
       "      <td>US</td>\n",
       "      <td>256</td>\n",
       "      <td>1644440188</td>\n",
       "      <td>Q1</td>\n",
       "      <td>Q2</td>\n",
       "      <td>NaN</td>\n",
       "      <td>NaN</td>\n",
       "    </tr>\n",
       "    <tr>\n",
       "      <th>4</th>\n",
       "      <td>2022-02-09 15:04:48.617</td>\n",
       "      <td>EU</td>\n",
       "      <td>256</td>\n",
       "      <td>1626478685</td>\n",
       "      <td>Q1</td>\n",
       "      <td>Q2</td>\n",
       "      <td>NaN</td>\n",
       "      <td>NaN</td>\n",
       "    </tr>\n",
       "  </tbody>\n",
       "</table>\n",
       "</div>"
      ],
      "text/plain": [
       "                Timestamp Region  Model  \\\n",
       "0 2022-02-25 13:21:39.764     US    256   \n",
       "1 2022-02-09 14:50:45.171     UK    512   \n",
       "2 2022-02-09 14:54:01.852     US    512   \n",
       "3 2022-02-09 14:58:39.188     US    256   \n",
       "4 2022-02-09 15:04:48.617     EU    256   \n",
       "\n",
       "   rtReserveTime or preorder-email time  Initial Valve Estimate  \\\n",
       "0                             1626454969               December   \n",
       "1                             1635594996               After Q2   \n",
       "2                             1626454856               December   \n",
       "3                             1644440188                     Q1   \n",
       "4                             1626478685                     Q1   \n",
       "\n",
       "  Your most recent pre-order estimated time  \\\n",
       "0                                        Q1   \n",
       "1                                  After Q2   \n",
       "2                                        Q1   \n",
       "3                                        Q2   \n",
       "4                                        Q2   \n",
       "\n",
       "   When did you receive your ready to order email?  Unnamed: 7  \n",
       "0                                     1.645813e+09         NaN  \n",
       "1                                              NaN         NaN  \n",
       "2                                              NaN         NaN  \n",
       "3                                              NaN         NaN  \n",
       "4                                              NaN         NaN  "
      ]
     },
     "execution_count": 5,
     "metadata": {},
     "output_type": "execute_result"
    }
   ],
   "source": [
    "data.head()"
   ]
  },
  {
   "cell_type": "code",
   "execution_count": 6,
   "id": "fc6881a5",
   "metadata": {},
   "outputs": [
    {
     "name": "stdout",
     "output_type": "stream",
     "text": [
      "1329 entries removed for having wrong inputs in Estimate Column\n"
     ]
    }
   ],
   "source": [
    "wrongInput = ((data[\"Initial Valve Estimate\"] == \"After Q2\") | (data[\"Initial Valve Estimate\"] == \"Q3\") | (data[\"Initial Valve Estimate\"] == \"After Q3\"))\n",
    "print(f\"{np.sum(wrongInput)} entries removed for having wrong inputs in Estimate Column\")\n",
    "data.drop(data[wrongInput].index, inplace=True)"
   ]
  },
  {
   "cell_type": "code",
   "execution_count": 7,
   "id": "b5771e63",
   "metadata": {},
   "outputs": [
    {
     "name": "stdout",
     "output_type": "stream",
     "text": [
      "20 entries removed for having NA on vital fields\n",
      "\n"
     ]
    }
   ],
   "source": [
    "data.drop(columns=[\"Timestamp\", \"Initial Valve Estimate\", \"Unnamed: 7\"], inplace=True)\n",
    "data.rename(columns = {\"rtReserveTime or preorder-email time \": \"Timestamp\", \"Your most recent pre-order estimated time\":\"ValveEstimate\", \"When did you receive your ready to order email?\":\"TrueOrderTimestamp\"}, inplace=True)\n",
    "\n",
    "\n",
    "namask = data[\"Region\"].isna() | data[\"Model\"].isna() | data[\"ValveEstimate\"].isna() | data[\"Timestamp\"].isna() | data[\"ValveEstimate\"].isna()\n",
    "print(f\"{np.sum(namask)} entries removed for having NA on vital fields\\n\")\n",
    "data.drop(data[namask].index,inplace=True)"
   ]
  },
  {
   "cell_type": "code",
   "execution_count": 8,
   "id": "6869b107",
   "metadata": {},
   "outputs": [
    {
     "name": "stdout",
     "output_type": "stream",
     "text": [
      "0 entries removed for having wrong inputs in Estimate Column\n"
     ]
    }
   ],
   "source": [
    "wrongInput2 = (data[\"TrueOrderTimestamp\"] < 1626516671)\n",
    "print(f\"{np.sum(wrongInput2)} entries removed for having wrong inputs in Estimate Column\")\n",
    "data.drop(data[wrongInput2].index, inplace=True)"
   ]
  },
  {
   "cell_type": "code",
   "execution_count": 9,
   "id": "b9d5be96",
   "metadata": {},
   "outputs": [
    {
     "name": "stdout",
     "output_type": "stream",
     "text": [
      "428 entries removed for being \"After Q2\", \"After Q3\", or similar\n",
      "\n"
     ]
    }
   ],
   "source": [
    "#not valid for after Q2\n",
    "#data = data[data[\"ValveEstimate\"] != \"After Q2\"]\n",
    "notEstimable = np.vectorize(lambda x: x not in ESTIMATELIST)\n",
    "notEstimableMask = notEstimable(data[\"ValveEstimate\"])\n",
    "print(f\"{np.sum(notEstimableMask)} entries removed for being \\\"After Q2\\\", \\\"After Q3\\\", or similar\\n\")\n",
    "data.drop(data[notEstimableMask].index, inplace=True)"
   ]
  },
  {
   "cell_type": "code",
   "execution_count": 10,
   "id": "45f873c1",
   "metadata": {},
   "outputs": [
    {
     "name": "stdout",
     "output_type": "stream",
     "text": [
      "144 entries removed for being after Februrary 25th 10am PDT\n",
      "\n"
     ]
    }
   ],
   "source": [
    "#entries supposedly happening after feb 25th 10am PDT\n",
    "wrongUpdateMask = ((data[\"ValveEstimate\"] == \"Q1\") | (data[\"ValveEstimate\"] == \"Q2\") | (data[\"ValveEstimate\"] == \"Q3\")) & (data[\"Timestamp\"] >= 1645801200)\n",
    "print(f\"{np.sum(wrongUpdateMask)} entries removed for being after Februrary 25th 10am PDT\\n\")\n",
    "data.drop(data[wrongUpdateMask].index, inplace=True)"
   ]
  },
  {
   "cell_type": "code",
   "execution_count": 11,
   "id": "a0289da5",
   "metadata": {},
   "outputs": [
    {
     "name": "stdout",
     "output_type": "stream",
     "text": [
      "0 entries removed for being before July 16th 10am PDT\n",
      "\n"
     ]
    }
   ],
   "source": [
    " #entries supposedly happening before july 16th 10am PDT\n",
    "cretinMask = data[\"Timestamp\"] < 1626454800\n",
    "print(f\"{np.sum(cretinMask)} entries removed for being before July 16th 10am PDT\\n\")\n",
    "data.drop(data[cretinMask].index, inplace=True)"
   ]
  },
  {
   "cell_type": "code",
   "execution_count": 12,
   "id": "30353f00",
   "metadata": {},
   "outputs": [
    {
     "data": {
      "text/html": [
       "<div>\n",
       "<style scoped>\n",
       "    .dataframe tbody tr th:only-of-type {\n",
       "        vertical-align: middle;\n",
       "    }\n",
       "\n",
       "    .dataframe tbody tr th {\n",
       "        vertical-align: top;\n",
       "    }\n",
       "\n",
       "    .dataframe thead th {\n",
       "        text-align: right;\n",
       "    }\n",
       "</style>\n",
       "<table border=\"1\" class=\"dataframe\">\n",
       "  <thead>\n",
       "    <tr style=\"text-align: right;\">\n",
       "      <th></th>\n",
       "      <th>Region</th>\n",
       "      <th>Model</th>\n",
       "      <th>Timestamp</th>\n",
       "      <th>ValveEstimate</th>\n",
       "      <th>TrueOrderTimestamp</th>\n",
       "    </tr>\n",
       "  </thead>\n",
       "  <tbody>\n",
       "    <tr>\n",
       "      <th>0</th>\n",
       "      <td>US</td>\n",
       "      <td>256</td>\n",
       "      <td>1626454969</td>\n",
       "      <td>Q1</td>\n",
       "      <td>1.645813e+09</td>\n",
       "    </tr>\n",
       "    <tr>\n",
       "      <th>2</th>\n",
       "      <td>US</td>\n",
       "      <td>512</td>\n",
       "      <td>1626454856</td>\n",
       "      <td>Q1</td>\n",
       "      <td>NaN</td>\n",
       "    </tr>\n",
       "    <tr>\n",
       "      <th>3</th>\n",
       "      <td>US</td>\n",
       "      <td>256</td>\n",
       "      <td>1644440188</td>\n",
       "      <td>Q2</td>\n",
       "      <td>NaN</td>\n",
       "    </tr>\n",
       "    <tr>\n",
       "      <th>4</th>\n",
       "      <td>EU</td>\n",
       "      <td>256</td>\n",
       "      <td>1626478685</td>\n",
       "      <td>Q2</td>\n",
       "      <td>NaN</td>\n",
       "    </tr>\n",
       "    <tr>\n",
       "      <th>5</th>\n",
       "      <td>US</td>\n",
       "      <td>512</td>\n",
       "      <td>1627423926</td>\n",
       "      <td>Q3</td>\n",
       "      <td>NaN</td>\n",
       "    </tr>\n",
       "  </tbody>\n",
       "</table>\n",
       "</div>"
      ],
      "text/plain": [
       "  Region  Model   Timestamp ValveEstimate  TrueOrderTimestamp\n",
       "0     US    256  1626454969            Q1        1.645813e+09\n",
       "2     US    512  1626454856            Q1                 NaN\n",
       "3     US    256  1644440188            Q2                 NaN\n",
       "4     EU    256  1626478685            Q2                 NaN\n",
       "5     US    512  1627423926            Q3                 NaN"
      ]
     },
     "execution_count": 12,
     "metadata": {},
     "output_type": "execute_result"
    }
   ],
   "source": [
    "data.head()"
   ]
  },
  {
   "cell_type": "code",
   "execution_count": 13,
   "id": "5254afd8",
   "metadata": {},
   "outputs": [],
   "source": [
    "  @np.vectorize\n",
    "  def digits(x):\n",
    "    if (np.isnan(x)):\n",
    "      return -1\n",
    "    \n",
    "    return int(np.log10(x))+1\n",
    "  \n",
    "  @np.vectorize\n",
    "  def convertTimestampToSeconds(x):\n",
    "    if (np.isnan(x)):\n",
    "      return np.nan\n",
    "    \n",
    "    l = digits(x)\n",
    "    if (l > 10 and (l - 10) % 3 == 0):\n",
    "      m = (l - 10) // 3\n",
    "      for _ in range(m):\n",
    "        x = x // 1000\n",
    "    \n",
    "    return x"
   ]
  },
  {
   "cell_type": "code",
   "execution_count": 14,
   "id": "637bfe13",
   "metadata": {},
   "outputs": [],
   "source": [
    "data[\"Timestamp\"] = convertTimestampToSeconds(data[\"Timestamp\"])\n",
    "data[\"TrueOrderTimestamp\"] = convertTimestampToSeconds(data[\"TrueOrderTimestamp\"])"
   ]
  },
  {
   "cell_type": "code",
   "execution_count": 15,
   "id": "3d64e250",
   "metadata": {},
   "outputs": [],
   "source": [
    "data.to_csv(\"Data.csv\")"
   ]
  },
  {
   "cell_type": "code",
   "execution_count": 16,
   "id": "56033248",
   "metadata": {},
   "outputs": [
    {
     "data": {
      "text/html": [
       "<div>\n",
       "<style scoped>\n",
       "    .dataframe tbody tr th:only-of-type {\n",
       "        vertical-align: middle;\n",
       "    }\n",
       "\n",
       "    .dataframe tbody tr th {\n",
       "        vertical-align: top;\n",
       "    }\n",
       "\n",
       "    .dataframe thead th {\n",
       "        text-align: right;\n",
       "    }\n",
       "</style>\n",
       "<table border=\"1\" class=\"dataframe\">\n",
       "  <thead>\n",
       "    <tr style=\"text-align: right;\">\n",
       "      <th></th>\n",
       "      <th>Region</th>\n",
       "      <th>Model</th>\n",
       "      <th>Timestamp</th>\n",
       "      <th>ValveEstimate</th>\n",
       "      <th>TrueOrderTimestamp</th>\n",
       "    </tr>\n",
       "  </thead>\n",
       "  <tbody>\n",
       "    <tr>\n",
       "      <th>0</th>\n",
       "      <td>US</td>\n",
       "      <td>256</td>\n",
       "      <td>1626454969</td>\n",
       "      <td>Q1</td>\n",
       "      <td>1.645813e+09</td>\n",
       "    </tr>\n",
       "    <tr>\n",
       "      <th>2</th>\n",
       "      <td>US</td>\n",
       "      <td>512</td>\n",
       "      <td>1626454856</td>\n",
       "      <td>Q1</td>\n",
       "      <td>NaN</td>\n",
       "    </tr>\n",
       "    <tr>\n",
       "      <th>3</th>\n",
       "      <td>US</td>\n",
       "      <td>256</td>\n",
       "      <td>1644440188</td>\n",
       "      <td>Q2</td>\n",
       "      <td>NaN</td>\n",
       "    </tr>\n",
       "    <tr>\n",
       "      <th>4</th>\n",
       "      <td>EU</td>\n",
       "      <td>256</td>\n",
       "      <td>1626478685</td>\n",
       "      <td>Q2</td>\n",
       "      <td>NaN</td>\n",
       "    </tr>\n",
       "    <tr>\n",
       "      <th>5</th>\n",
       "      <td>US</td>\n",
       "      <td>512</td>\n",
       "      <td>1627423926</td>\n",
       "      <td>Q3</td>\n",
       "      <td>NaN</td>\n",
       "    </tr>\n",
       "  </tbody>\n",
       "</table>\n",
       "</div>"
      ],
      "text/plain": [
       "  Region  Model   Timestamp ValveEstimate  TrueOrderTimestamp\n",
       "0     US    256  1626454969            Q1        1.645813e+09\n",
       "2     US    512  1626454856            Q1                 NaN\n",
       "3     US    256  1644440188            Q2                 NaN\n",
       "4     EU    256  1626478685            Q2                 NaN\n",
       "5     US    512  1627423926            Q3                 NaN"
      ]
     },
     "execution_count": 16,
     "metadata": {},
     "output_type": "execute_result"
    }
   ],
   "source": [
    "data.head()"
   ]
  },
  {
   "cell_type": "code",
   "execution_count": 17,
   "id": "5a6beb33",
   "metadata": {},
   "outputs": [
    {
     "name": "stdout",
     "output_type": "stream",
     "text": [
      "4932 remove empty entries\n"
     ]
    }
   ],
   "source": [
    "removeEmpty = data[\"TrueOrderTimestamp\"].isna()\n",
    "print(f\"{np.sum(removeEmpty)} remove empty entries\")\n",
    "data.drop(data[removeEmpty].index, inplace=True)"
   ]
  },
  {
   "cell_type": "code",
   "execution_count": 18,
   "id": "30ae9883",
   "metadata": {},
   "outputs": [
    {
     "data": {
      "text/plain": [
       "Region                 object\n",
       "Model                   int64\n",
       "Timestamp               int64\n",
       "ValveEstimate          object\n",
       "TrueOrderTimestamp    float64\n",
       "dtype: object"
      ]
     },
     "execution_count": 18,
     "metadata": {},
     "output_type": "execute_result"
    }
   ],
   "source": [
    "data.dtypes"
   ]
  },
  {
   "cell_type": "code",
   "execution_count": 19,
   "id": "a3f93573",
   "metadata": {},
   "outputs": [
    {
     "data": {
      "text/html": [
       "<div>\n",
       "<style scoped>\n",
       "    .dataframe tbody tr th:only-of-type {\n",
       "        vertical-align: middle;\n",
       "    }\n",
       "\n",
       "    .dataframe tbody tr th {\n",
       "        vertical-align: top;\n",
       "    }\n",
       "\n",
       "    .dataframe thead th {\n",
       "        text-align: right;\n",
       "    }\n",
       "</style>\n",
       "<table border=\"1\" class=\"dataframe\">\n",
       "  <thead>\n",
       "    <tr style=\"text-align: right;\">\n",
       "      <th></th>\n",
       "      <th>Region</th>\n",
       "      <th>Model</th>\n",
       "      <th>Timestamp</th>\n",
       "      <th>ValveEstimate</th>\n",
       "      <th>TrueOrderTimestamp</th>\n",
       "    </tr>\n",
       "  </thead>\n",
       "  <tbody>\n",
       "    <tr>\n",
       "      <th>0</th>\n",
       "      <td>US</td>\n",
       "      <td>256</td>\n",
       "      <td>1626454969</td>\n",
       "      <td>Q1</td>\n",
       "      <td>1.645813e+09</td>\n",
       "    </tr>\n",
       "    <tr>\n",
       "      <th>6</th>\n",
       "      <td>EU</td>\n",
       "      <td>512</td>\n",
       "      <td>1626454854</td>\n",
       "      <td>Q1</td>\n",
       "      <td>1.645813e+09</td>\n",
       "    </tr>\n",
       "    <tr>\n",
       "      <th>11</th>\n",
       "      <td>US</td>\n",
       "      <td>512</td>\n",
       "      <td>1626455651</td>\n",
       "      <td>Q2</td>\n",
       "      <td>1.650302e+09</td>\n",
       "    </tr>\n",
       "    <tr>\n",
       "      <th>30</th>\n",
       "      <td>EU</td>\n",
       "      <td>256</td>\n",
       "      <td>1626468720</td>\n",
       "      <td>Q2</td>\n",
       "      <td>1.650300e+09</td>\n",
       "    </tr>\n",
       "    <tr>\n",
       "      <th>34</th>\n",
       "      <td>UK</td>\n",
       "      <td>256</td>\n",
       "      <td>1626455083</td>\n",
       "      <td>Q1</td>\n",
       "      <td>1.646675e+09</td>\n",
       "    </tr>\n",
       "  </tbody>\n",
       "</table>\n",
       "</div>"
      ],
      "text/plain": [
       "   Region  Model   Timestamp ValveEstimate  TrueOrderTimestamp\n",
       "0      US    256  1626454969            Q1        1.645813e+09\n",
       "6      EU    512  1626454854            Q1        1.645813e+09\n",
       "11     US    512  1626455651            Q2        1.650302e+09\n",
       "30     EU    256  1626468720            Q2        1.650300e+09\n",
       "34     UK    256  1626455083            Q1        1.646675e+09"
      ]
     },
     "execution_count": 19,
     "metadata": {},
     "output_type": "execute_result"
    }
   ],
   "source": [
    "data.head()"
   ]
  },
  {
   "cell_type": "code",
   "execution_count": 20,
   "id": "603b538e",
   "metadata": {},
   "outputs": [],
   "source": [
    "s = (data.dtypes == 'object')\n",
    "object_cols = list(s[s].index)"
   ]
  },
  {
   "cell_type": "code",
   "execution_count": 21,
   "id": "619de81f",
   "metadata": {},
   "outputs": [],
   "source": [
    "from sklearn.preprocessing import OneHotEncoder\n",
    "from sklearn.preprocessing import OrdinalEncoder\n",
    "\n",
    "ordinal_enc = OrdinalEncoder()\n",
    "data[\"Region\"] = ordinal_enc.fit_transform(data[[\"Region\"]])\n",
    "data[\"ValveEstimate\"] = ordinal_enc.fit_transform(data[[\"ValveEstimate\"]])\n",
    "data[\"Model\"] = ordinal_enc.fit_transform(data[[\"Model\"]])"
   ]
  },
  {
   "cell_type": "code",
   "execution_count": 22,
   "id": "f33f8de2",
   "metadata": {},
   "outputs": [
    {
     "data": {
      "text/html": [
       "<div>\n",
       "<style scoped>\n",
       "    .dataframe tbody tr th:only-of-type {\n",
       "        vertical-align: middle;\n",
       "    }\n",
       "\n",
       "    .dataframe tbody tr th {\n",
       "        vertical-align: top;\n",
       "    }\n",
       "\n",
       "    .dataframe thead th {\n",
       "        text-align: right;\n",
       "    }\n",
       "</style>\n",
       "<table border=\"1\" class=\"dataframe\">\n",
       "  <thead>\n",
       "    <tr style=\"text-align: right;\">\n",
       "      <th></th>\n",
       "      <th>Region</th>\n",
       "      <th>Model</th>\n",
       "      <th>Timestamp</th>\n",
       "      <th>ValveEstimate</th>\n",
       "      <th>TrueOrderTimestamp</th>\n",
       "    </tr>\n",
       "  </thead>\n",
       "  <tbody>\n",
       "    <tr>\n",
       "      <th>0</th>\n",
       "      <td>2.0</td>\n",
       "      <td>1.0</td>\n",
       "      <td>1626454969</td>\n",
       "      <td>0.0</td>\n",
       "      <td>1.645813e+09</td>\n",
       "    </tr>\n",
       "    <tr>\n",
       "      <th>6</th>\n",
       "      <td>0.0</td>\n",
       "      <td>2.0</td>\n",
       "      <td>1626454854</td>\n",
       "      <td>0.0</td>\n",
       "      <td>1.645813e+09</td>\n",
       "    </tr>\n",
       "    <tr>\n",
       "      <th>11</th>\n",
       "      <td>2.0</td>\n",
       "      <td>2.0</td>\n",
       "      <td>1626455651</td>\n",
       "      <td>1.0</td>\n",
       "      <td>1.650302e+09</td>\n",
       "    </tr>\n",
       "    <tr>\n",
       "      <th>30</th>\n",
       "      <td>0.0</td>\n",
       "      <td>1.0</td>\n",
       "      <td>1626468720</td>\n",
       "      <td>1.0</td>\n",
       "      <td>1.650300e+09</td>\n",
       "    </tr>\n",
       "    <tr>\n",
       "      <th>34</th>\n",
       "      <td>1.0</td>\n",
       "      <td>1.0</td>\n",
       "      <td>1626455083</td>\n",
       "      <td>0.0</td>\n",
       "      <td>1.646675e+09</td>\n",
       "    </tr>\n",
       "  </tbody>\n",
       "</table>\n",
       "</div>"
      ],
      "text/plain": [
       "    Region  Model   Timestamp  ValveEstimate  TrueOrderTimestamp\n",
       "0      2.0    1.0  1626454969            0.0        1.645813e+09\n",
       "6      0.0    2.0  1626454854            0.0        1.645813e+09\n",
       "11     2.0    2.0  1626455651            1.0        1.650302e+09\n",
       "30     0.0    1.0  1626468720            1.0        1.650300e+09\n",
       "34     1.0    1.0  1626455083            0.0        1.646675e+09"
      ]
     },
     "execution_count": 22,
     "metadata": {},
     "output_type": "execute_result"
    }
   ],
   "source": [
    "data.head()"
   ]
  },
  {
   "cell_type": "code",
   "execution_count": 23,
   "id": "2b0edbf1",
   "metadata": {},
   "outputs": [
    {
     "data": {
      "text/plain": [
       "599"
      ]
     },
     "execution_count": 23,
     "metadata": {},
     "output_type": "execute_result"
    }
   ],
   "source": [
    "len(data)"
   ]
  },
  {
   "cell_type": "code",
   "execution_count": 24,
   "id": "fa96424d",
   "metadata": {},
   "outputs": [],
   "source": [
    "y = data.iloc[:, -1]\n",
    "\n",
    "X = data.iloc[:, 0:4]\n",
    "\n",
    "X.to_csv(\"X.csv\")\n",
    "y.to_csv(\"y.csv\")"
   ]
  },
  {
   "cell_type": "code",
   "execution_count": 25,
   "id": "4726ffb4",
   "metadata": {},
   "outputs": [],
   "source": [
    "#Do a test train split\n",
    "from sklearn.model_selection import train_test_split\n",
    "\n",
    "X_train, X_valid, y_train, y_valid = train_test_split(X, y, train_size=0.8, test_size=0.2,\n",
    "                                                      random_state=0)"
   ]
  },
  {
   "cell_type": "code",
   "execution_count": 26,
   "id": "9cea8f66",
   "metadata": {},
   "outputs": [],
   "source": [
    "#use linear regression to train the model and score the accuracy of the model\n",
    "model = LinearRegression()\n",
    "model = LinearRegression().fit(X_train, y_train)"
   ]
  },
  {
   "cell_type": "code",
   "execution_count": 27,
   "id": "ccd4a98b",
   "metadata": {},
   "outputs": [
    {
     "name": "stdout",
     "output_type": "stream",
     "text": [
      "-0.008362589112313135\n"
     ]
    }
   ],
   "source": [
    "r_sq = model.score(X_valid, y_valid)\n",
    "print(r_sq)"
   ]
  },
  {
   "cell_type": "code",
   "execution_count": 28,
   "id": "f2955267",
   "metadata": {},
   "outputs": [
    {
     "name": "stdout",
     "output_type": "stream",
     "text": [
      "1842321524.3277347\n"
     ]
    }
   ],
   "source": [
    "from sklearn.metrics import mean_absolute_error\n",
    "\n",
    "preds = model.predict(X_valid)\n",
    "print(mean_absolute_error(y_valid, preds))\n"
   ]
  },
  {
   "cell_type": "code",
   "execution_count": 33,
   "id": "090c102b",
   "metadata": {},
   "outputs": [
    {
     "name": "stdout",
     "output_type": "stream",
     "text": [
      "1685656865\n"
     ]
    }
   ],
   "source": [
    "#Region\tModel\tTimestamp\tValveEstimate\n",
    "d = {'Region': 2.0, 'Model': 0.0, \"TimeStamp\": 1626460536, \"ValveEstimate\": 1.0}\n",
    "df = pd.DataFrame(data=d, index=[0])\n",
    "\n",
    "res  = model.predict(df)\n",
    "print(\"{0:.0f}\".format(res[0]))\n"
   ]
  },
  {
   "cell_type": "code",
   "execution_count": 34,
   "id": "149d0ac4",
   "metadata": {},
   "outputs": [
    {
     "data": {
      "text/plain": [
       "Pipeline(steps=[('model',\n",
       "                 XGBRegressor(base_score=0.5, booster='gbtree',\n",
       "                              colsample_bylevel=1, colsample_bynode=1,\n",
       "                              colsample_bytree=1, enable_categorical=False,\n",
       "                              gamma=0, gpu_id=-1, importance_type=None,\n",
       "                              interaction_constraints='',\n",
       "                              learning_rate=0.300000012, max_delta_step=0,\n",
       "                              max_depth=6, min_child_weight=1, missing=nan,\n",
       "                              monotone_constraints='()', n_estimators=100,\n",
       "                              n_jobs=12, num_parallel_tree=1, predictor='auto',\n",
       "                              random_state=0, reg_alpha=0, reg_lambda=1,\n",
       "                              scale_pos_weight=1, subsample=1,\n",
       "                              tree_method='exact', validate_parameters=1,\n",
       "                              verbosity=None))])"
      ]
     },
     "execution_count": 34,
     "metadata": {},
     "output_type": "execute_result"
    }
   ],
   "source": [
    "from xgboost import XGBRegressor\n",
    "from sklearn.pipeline import Pipeline\n",
    "\n",
    "my_model = XGBRegressor()\n",
    "my_pipeline = Pipeline(steps=[('model', my_model)])\n",
    "\n",
    "my_pipeline.fit(X_train, y_train)"
   ]
  },
  {
   "cell_type": "code",
   "execution_count": 35,
   "id": "ebcb5572",
   "metadata": {},
   "outputs": [
    {
     "name": "stdout",
     "output_type": "stream",
     "text": [
      "-0.008393769998462863\n"
     ]
    }
   ],
   "source": [
    "r_sq = my_pipeline.score(X_valid, y_valid.values.ravel())\n",
    "print(r_sq)"
   ]
  },
  {
   "cell_type": "code",
   "execution_count": 37,
   "id": "e66de1bf",
   "metadata": {},
   "outputs": [
    {
     "name": "stdout",
     "output_type": "stream",
     "text": [
      "1649194880\n"
     ]
    }
   ],
   "source": [
    "#Region\tModel\tTimestamp\tValveEstimate\n",
    "d = {'Region': 2.0, 'Model': 0.0, \"TimeStamp\": 1649208320, \"ValveEstimate\": 1.0}\n",
    "df = pd.DataFrame(data=d, index=[0])\n",
    "\n",
    "res  = my_pipeline.predict(df)\n",
    "print(\"{0:.0f}\".format(res[0]))\n"
   ]
  },
  {
   "cell_type": "code",
   "execution_count": null,
   "id": "227baf66",
   "metadata": {},
   "outputs": [],
   "source": []
  }
 ],
 "metadata": {
  "kernelspec": {
   "display_name": "Python 3",
   "language": "python",
   "name": "python3"
  },
  "language_info": {
   "codemirror_mode": {
    "name": "ipython",
    "version": 3
   },
   "file_extension": ".py",
   "mimetype": "text/x-python",
   "name": "python",
   "nbconvert_exporter": "python",
   "pygments_lexer": "ipython3",
   "version": "3.8.8"
  }
 },
 "nbformat": 4,
 "nbformat_minor": 5
}
