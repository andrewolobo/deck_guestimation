{
 "cells": [
  {
   "cell_type": "code",
   "execution_count": 28,
   "id": "58d931a9",
   "metadata": {},
   "outputs": [],
   "source": [
    "import numpy as np\n",
    "import pandas as pd\n",
    "import scipy.stats as stats\n",
    "import matplotlib.pyplot as plt\n",
    "import math\n",
    "from datetime import datetime\n",
    "import time\n",
    "import IPython\n",
    "import os\n",
    "import threading\n",
    "from sklearn.linear_model import LinearRegression\n",
    "\n",
    "import warnings\n",
    "warnings.filterwarnings('error', category=UserWarning)"
   ]
  },
  {
   "cell_type": "code",
   "execution_count": 29,
   "id": "3cfca719",
   "metadata": {},
   "outputs": [],
   "source": [
    "REGIONLIST= [\"US\", \"EU\", \"UK\"]\n",
    "MODELLIST = [\"64\", \"256\", \"512\"]\n",
    "ESTIMATELIST = [\"Q1\",\"Q2\", \"Q3\"]"
   ]
  },
  {
   "cell_type": "code",
   "execution_count": 30,
   "id": "66efcd50",
   "metadata": {},
   "outputs": [
    {
     "name": "stdout",
     "output_type": "stream",
     "text": [
      "[('US', '64', 'Q1'), ('US', '64', 'Q2'), ('US', '64', 'Q3'), ('US', '256', 'Q1'), ('US', '256', 'Q2'), ('US', '256', 'Q3'), ('US', '512', 'Q1'), ('US', '512', 'Q2'), ('US', '512', 'Q3'), ('EU', '64', 'Q1'), ('EU', '64', 'Q2'), ('EU', '64', 'Q3'), ('EU', '256', 'Q1'), ('EU', '256', 'Q2'), ('EU', '256', 'Q3'), ('EU', '512', 'Q1'), ('EU', '512', 'Q2'), ('EU', '512', 'Q3'), ('UK', '64', 'Q1'), ('UK', '64', 'Q2'), ('UK', '64', 'Q3'), ('UK', '256', 'Q1'), ('UK', '256', 'Q2'), ('UK', '256', 'Q3'), ('UK', '512', 'Q1'), ('UK', '512', 'Q2'), ('UK', '512', 'Q3')]\n"
     ]
    }
   ],
   "source": [
    "def AllPossibleQueues_Func():\n",
    "  result = []\n",
    "  for r in REGIONLIST:\n",
    "    if (r == \"ALL\"):\n",
    "      continue\n",
    "    for m in MODELLIST:\n",
    "      for e in ESTIMATELIST:\n",
    "        result.append((r,m,e))\n",
    "    \n",
    "  return result\n",
    "\n",
    "ALLPOSSIBLEQUEUES = AllPossibleQueues_Func()\n",
    "print(ALLPOSSIBLEQUEUES)"
   ]
  },
  {
   "cell_type": "code",
   "execution_count": 31,
   "id": "03649e33",
   "metadata": {},
   "outputs": [],
   "source": [
    "data = pd.read_excel('stds.xlsx')"
   ]
  },
  {
   "cell_type": "code",
   "execution_count": 32,
   "id": "d6f658da",
   "metadata": {},
   "outputs": [
    {
     "data": {
      "text/html": [
       "<div>\n",
       "<style scoped>\n",
       "    .dataframe tbody tr th:only-of-type {\n",
       "        vertical-align: middle;\n",
       "    }\n",
       "\n",
       "    .dataframe tbody tr th {\n",
       "        vertical-align: top;\n",
       "    }\n",
       "\n",
       "    .dataframe thead th {\n",
       "        text-align: right;\n",
       "    }\n",
       "</style>\n",
       "<table border=\"1\" class=\"dataframe\">\n",
       "  <thead>\n",
       "    <tr style=\"text-align: right;\">\n",
       "      <th></th>\n",
       "      <th>Timestamp</th>\n",
       "      <th>Region</th>\n",
       "      <th>Model</th>\n",
       "      <th>rtReserveTime or preorder-email time</th>\n",
       "      <th>Initial Valve Estimate</th>\n",
       "      <th>Your most recent pre-order estimated time</th>\n",
       "      <th>When did you receive your ready to order email?</th>\n",
       "      <th>Unnamed: 7</th>\n",
       "    </tr>\n",
       "  </thead>\n",
       "  <tbody>\n",
       "    <tr>\n",
       "      <th>0</th>\n",
       "      <td>2022-02-25 13:21:39.764</td>\n",
       "      <td>US</td>\n",
       "      <td>256</td>\n",
       "      <td>1626454969</td>\n",
       "      <td>December</td>\n",
       "      <td>Q1</td>\n",
       "      <td>1.645813e+09</td>\n",
       "      <td>NaN</td>\n",
       "    </tr>\n",
       "    <tr>\n",
       "      <th>1</th>\n",
       "      <td>2022-02-09 14:50:45.171</td>\n",
       "      <td>UK</td>\n",
       "      <td>512</td>\n",
       "      <td>1635594996</td>\n",
       "      <td>After Q2</td>\n",
       "      <td>After Q2</td>\n",
       "      <td>NaN</td>\n",
       "      <td>NaN</td>\n",
       "    </tr>\n",
       "    <tr>\n",
       "      <th>2</th>\n",
       "      <td>2022-02-09 14:54:01.852</td>\n",
       "      <td>US</td>\n",
       "      <td>512</td>\n",
       "      <td>1626454856</td>\n",
       "      <td>December</td>\n",
       "      <td>Q1</td>\n",
       "      <td>NaN</td>\n",
       "      <td>NaN</td>\n",
       "    </tr>\n",
       "    <tr>\n",
       "      <th>3</th>\n",
       "      <td>2022-02-09 14:58:39.188</td>\n",
       "      <td>US</td>\n",
       "      <td>256</td>\n",
       "      <td>1644440188</td>\n",
       "      <td>Q1</td>\n",
       "      <td>Q2</td>\n",
       "      <td>NaN</td>\n",
       "      <td>NaN</td>\n",
       "    </tr>\n",
       "    <tr>\n",
       "      <th>4</th>\n",
       "      <td>2022-02-09 15:04:48.617</td>\n",
       "      <td>EU</td>\n",
       "      <td>256</td>\n",
       "      <td>1626478685</td>\n",
       "      <td>Q1</td>\n",
       "      <td>Q2</td>\n",
       "      <td>NaN</td>\n",
       "      <td>NaN</td>\n",
       "    </tr>\n",
       "  </tbody>\n",
       "</table>\n",
       "</div>"
      ],
      "text/plain": [
       "                Timestamp Region  Model  \\\n",
       "0 2022-02-25 13:21:39.764     US    256   \n",
       "1 2022-02-09 14:50:45.171     UK    512   \n",
       "2 2022-02-09 14:54:01.852     US    512   \n",
       "3 2022-02-09 14:58:39.188     US    256   \n",
       "4 2022-02-09 15:04:48.617     EU    256   \n",
       "\n",
       "   rtReserveTime or preorder-email time  Initial Valve Estimate  \\\n",
       "0                             1626454969               December   \n",
       "1                             1635594996               After Q2   \n",
       "2                             1626454856               December   \n",
       "3                             1644440188                     Q1   \n",
       "4                             1626478685                     Q1   \n",
       "\n",
       "  Your most recent pre-order estimated time  \\\n",
       "0                                        Q1   \n",
       "1                                  After Q2   \n",
       "2                                        Q1   \n",
       "3                                        Q2   \n",
       "4                                        Q2   \n",
       "\n",
       "   When did you receive your ready to order email?  Unnamed: 7  \n",
       "0                                     1.645813e+09         NaN  \n",
       "1                                              NaN         NaN  \n",
       "2                                              NaN         NaN  \n",
       "3                                              NaN         NaN  \n",
       "4                                              NaN         NaN  "
      ]
     },
     "execution_count": 32,
     "metadata": {},
     "output_type": "execute_result"
    }
   ],
   "source": [
    "data.head()"
   ]
  },
  {
   "cell_type": "code",
   "execution_count": 33,
   "id": "b5771e63",
   "metadata": {},
   "outputs": [
    {
     "name": "stdout",
     "output_type": "stream",
     "text": [
      "13 entries removed for having NA on vital fields\n",
      "\n"
     ]
    }
   ],
   "source": [
    "data.drop(columns=[\"Timestamp\", \"Initial Valve Estimate\", \"Unnamed: 7\"], inplace=True)\n",
    "data.rename(columns = {\"rtReserveTime or preorder-email time \": \"Timestamp\", \"Your most recent pre-order estimated time\":\"ValveEstimate\", \"When did you receive your ready to order email?\":\"TrueOrderTimestamp\"}, inplace=True)\n",
    "\n",
    "\n",
    "namask = data[\"Region\"].isna() | data[\"Model\"].isna() | data[\"ValveEstimate\"].isna() | data[\"Timestamp\"].isna() | data[\"ValveEstimate\"].isna()\n",
    "print(f\"{np.sum(namask)} entries removed for having NA on vital fields\\n\")\n",
    "data.drop(data[namask].index,inplace=True)"
   ]
  },
  {
   "cell_type": "code",
   "execution_count": 34,
   "id": "b9d5be96",
   "metadata": {},
   "outputs": [
    {
     "name": "stdout",
     "output_type": "stream",
     "text": [
      "764 entries removed for being \"After Q2\", \"After Q3\", or similar\n",
      "\n"
     ]
    }
   ],
   "source": [
    "#not valid for after Q2\n",
    "#data = data[data[\"ValveEstimate\"] != \"After Q2\"]\n",
    "notEstimable = np.vectorize(lambda x: x not in ESTIMATELIST)\n",
    "notEstimableMask = notEstimable(data[\"ValveEstimate\"])\n",
    "print(f\"{np.sum(notEstimableMask)} entries removed for being \\\"After Q2\\\", \\\"After Q3\\\", or similar\\n\")\n",
    "data.drop(data[notEstimableMask].index, inplace=True)"
   ]
  },
  {
   "cell_type": "code",
   "execution_count": 35,
   "id": "45f873c1",
   "metadata": {},
   "outputs": [
    {
     "name": "stdout",
     "output_type": "stream",
     "text": [
      "51 entries removed for being after Februrary 25th 10am PDT\n",
      "\n"
     ]
    }
   ],
   "source": [
    "#entries supposedly happening after feb 25th 10am PDT\n",
    "wrongUpdateMask = ((data[\"ValveEstimate\"] == \"Q1\") | (data[\"ValveEstimate\"] == \"Q2\") | (data[\"ValveEstimate\"] == \"Q3\")) & (data[\"Timestamp\"] >= 1645801200)\n",
    "print(f\"{np.sum(wrongUpdateMask)} entries removed for being after Februrary 25th 10am PDT\\n\")\n",
    "data.drop(data[wrongUpdateMask].index, inplace=True)"
   ]
  },
  {
   "cell_type": "code",
   "execution_count": 36,
   "id": "a0289da5",
   "metadata": {},
   "outputs": [
    {
     "name": "stdout",
     "output_type": "stream",
     "text": [
      "0 entries removed for being before July 16th 10am PDT\n",
      "\n"
     ]
    }
   ],
   "source": [
    " #entries supposedly happening before july 16th 10am PDT\n",
    "cretinMask = data[\"Timestamp\"] < 1626454800\n",
    "print(f\"{np.sum(cretinMask)} entries removed for being before July 16th 10am PDT\\n\")\n",
    "data.drop(data[cretinMask].index, inplace=True)"
   ]
  },
  {
   "cell_type": "code",
   "execution_count": 37,
   "id": "30353f00",
   "metadata": {},
   "outputs": [
    {
     "data": {
      "text/html": [
       "<div>\n",
       "<style scoped>\n",
       "    .dataframe tbody tr th:only-of-type {\n",
       "        vertical-align: middle;\n",
       "    }\n",
       "\n",
       "    .dataframe tbody tr th {\n",
       "        vertical-align: top;\n",
       "    }\n",
       "\n",
       "    .dataframe thead th {\n",
       "        text-align: right;\n",
       "    }\n",
       "</style>\n",
       "<table border=\"1\" class=\"dataframe\">\n",
       "  <thead>\n",
       "    <tr style=\"text-align: right;\">\n",
       "      <th></th>\n",
       "      <th>Region</th>\n",
       "      <th>Model</th>\n",
       "      <th>Timestamp</th>\n",
       "      <th>ValveEstimate</th>\n",
       "      <th>TrueOrderTimestamp</th>\n",
       "    </tr>\n",
       "  </thead>\n",
       "  <tbody>\n",
       "    <tr>\n",
       "      <th>0</th>\n",
       "      <td>US</td>\n",
       "      <td>256</td>\n",
       "      <td>1626454969</td>\n",
       "      <td>Q1</td>\n",
       "      <td>1.645813e+09</td>\n",
       "    </tr>\n",
       "    <tr>\n",
       "      <th>2</th>\n",
       "      <td>US</td>\n",
       "      <td>512</td>\n",
       "      <td>1626454856</td>\n",
       "      <td>Q1</td>\n",
       "      <td>NaN</td>\n",
       "    </tr>\n",
       "    <tr>\n",
       "      <th>3</th>\n",
       "      <td>US</td>\n",
       "      <td>256</td>\n",
       "      <td>1644440188</td>\n",
       "      <td>Q2</td>\n",
       "      <td>NaN</td>\n",
       "    </tr>\n",
       "    <tr>\n",
       "      <th>4</th>\n",
       "      <td>EU</td>\n",
       "      <td>256</td>\n",
       "      <td>1626478685</td>\n",
       "      <td>Q2</td>\n",
       "      <td>NaN</td>\n",
       "    </tr>\n",
       "    <tr>\n",
       "      <th>5</th>\n",
       "      <td>US</td>\n",
       "      <td>512</td>\n",
       "      <td>1627423926</td>\n",
       "      <td>Q3</td>\n",
       "      <td>NaN</td>\n",
       "    </tr>\n",
       "  </tbody>\n",
       "</table>\n",
       "</div>"
      ],
      "text/plain": [
       "  Region  Model   Timestamp ValveEstimate  TrueOrderTimestamp\n",
       "0     US    256  1626454969            Q1        1.645813e+09\n",
       "2     US    512  1626454856            Q1                 NaN\n",
       "3     US    256  1644440188            Q2                 NaN\n",
       "4     EU    256  1626478685            Q2                 NaN\n",
       "5     US    512  1627423926            Q3                 NaN"
      ]
     },
     "execution_count": 37,
     "metadata": {},
     "output_type": "execute_result"
    }
   ],
   "source": [
    "data.head()"
   ]
  },
  {
   "cell_type": "code",
   "execution_count": 38,
   "id": "5254afd8",
   "metadata": {},
   "outputs": [],
   "source": [
    "  @np.vectorize\n",
    "  def digits(x):\n",
    "    if (np.isnan(x)):\n",
    "      return -1\n",
    "    \n",
    "    return int(np.log10(x))+1\n",
    "  \n",
    "  @np.vectorize\n",
    "  def convertTimestampToSeconds(x):\n",
    "    if (np.isnan(x)):\n",
    "      return np.nan\n",
    "    \n",
    "    l = digits(x)\n",
    "    if (l > 10 and (l - 10) % 3 == 0):\n",
    "      m = (l - 10) // 3\n",
    "      for _ in range(m):\n",
    "        x = x // 1000\n",
    "    \n",
    "    return x"
   ]
  },
  {
   "cell_type": "code",
   "execution_count": 39,
   "id": "637bfe13",
   "metadata": {},
   "outputs": [],
   "source": [
    "data[\"Timestamp\"] = convertTimestampToSeconds(data[\"Timestamp\"])\n",
    "data[\"TrueOrderTimestamp\"] = convertTimestampToSeconds(data[\"TrueOrderTimestamp\"])"
   ]
  },
  {
   "cell_type": "code",
   "execution_count": 40,
   "id": "3d64e250",
   "metadata": {},
   "outputs": [],
   "source": [
    "data.to_csv(\"Data.csv\")"
   ]
  },
  {
   "cell_type": "code",
   "execution_count": 41,
   "id": "5a6beb33",
   "metadata": {},
   "outputs": [
    {
     "name": "stdout",
     "output_type": "stream",
     "text": [
      "2032 remove empty entries\n"
     ]
    }
   ],
   "source": [
    "removeEmpty = data[\"TrueOrderTimestamp\"].isna()\n",
    "print(f\"{np.sum(removeEmpty)} remove empty entries\")\n",
    "data.drop(data[removeEmpty].index, inplace=True)"
   ]
  },
  {
   "cell_type": "code",
   "execution_count": 43,
   "id": "128e82ba",
   "metadata": {},
   "outputs": [],
   "source": [
    "trainData = data.copy()"
   ]
  },
  {
   "cell_type": "code",
   "execution_count": 44,
   "id": "30ae9883",
   "metadata": {},
   "outputs": [],
   "source": [
    "trainData.dtype"
   ]
  },
  {
   "cell_type": "code",
   "execution_count": 45,
   "id": "603b538e",
   "metadata": {},
   "outputs": [],
   "source": [
    "s = (trainData.dtypes == 'object')\n",
    "object_cols = list(s[s].index)"
   ]
  },
  {
   "cell_type": "code",
   "execution_count": 46,
   "id": "b1b3b805",
   "metadata": {},
   "outputs": [
    {
     "data": {
      "text/html": [
       "<div>\n",
       "<style scoped>\n",
       "    .dataframe tbody tr th:only-of-type {\n",
       "        vertical-align: middle;\n",
       "    }\n",
       "\n",
       "    .dataframe tbody tr th {\n",
       "        vertical-align: top;\n",
       "    }\n",
       "\n",
       "    .dataframe thead th {\n",
       "        text-align: right;\n",
       "    }\n",
       "</style>\n",
       "<table border=\"1\" class=\"dataframe\">\n",
       "  <thead>\n",
       "    <tr style=\"text-align: right;\">\n",
       "      <th></th>\n",
       "      <th>Region</th>\n",
       "      <th>Model</th>\n",
       "      <th>Timestamp</th>\n",
       "      <th>ValveEstimate</th>\n",
       "      <th>TrueOrderTimestamp</th>\n",
       "    </tr>\n",
       "  </thead>\n",
       "  <tbody>\n",
       "    <tr>\n",
       "      <th>0</th>\n",
       "      <td>US</td>\n",
       "      <td>256</td>\n",
       "      <td>1626454969</td>\n",
       "      <td>Q1</td>\n",
       "      <td>1.645813e+09</td>\n",
       "    </tr>\n",
       "    <tr>\n",
       "      <th>6</th>\n",
       "      <td>EU</td>\n",
       "      <td>512</td>\n",
       "      <td>1626454854</td>\n",
       "      <td>Q1</td>\n",
       "      <td>1.645813e+09</td>\n",
       "    </tr>\n",
       "    <tr>\n",
       "      <th>34</th>\n",
       "      <td>UK</td>\n",
       "      <td>256</td>\n",
       "      <td>1626455083</td>\n",
       "      <td>Q1</td>\n",
       "      <td>1.646675e+09</td>\n",
       "    </tr>\n",
       "    <tr>\n",
       "      <th>63</th>\n",
       "      <td>EU</td>\n",
       "      <td>64</td>\n",
       "      <td>1626464450</td>\n",
       "      <td>Q1</td>\n",
       "      <td>1.647279e+09</td>\n",
       "    </tr>\n",
       "    <tr>\n",
       "      <th>101</th>\n",
       "      <td>EU</td>\n",
       "      <td>512</td>\n",
       "      <td>1626455384</td>\n",
       "      <td>Q1</td>\n",
       "      <td>1.646675e+09</td>\n",
       "    </tr>\n",
       "    <tr>\n",
       "      <th>...</th>\n",
       "      <td>...</td>\n",
       "      <td>...</td>\n",
       "      <td>...</td>\n",
       "      <td>...</td>\n",
       "      <td>...</td>\n",
       "    </tr>\n",
       "    <tr>\n",
       "      <th>2587</th>\n",
       "      <td>US</td>\n",
       "      <td>512</td>\n",
       "      <td>1626455224</td>\n",
       "      <td>Q1</td>\n",
       "      <td>1.647881e+09</td>\n",
       "    </tr>\n",
       "    <tr>\n",
       "      <th>2588</th>\n",
       "      <td>US</td>\n",
       "      <td>256</td>\n",
       "      <td>1626455468</td>\n",
       "      <td>Q1</td>\n",
       "      <td>1.647880e+09</td>\n",
       "    </tr>\n",
       "    <tr>\n",
       "      <th>2616</th>\n",
       "      <td>EU</td>\n",
       "      <td>256</td>\n",
       "      <td>1626463800</td>\n",
       "      <td>Q1</td>\n",
       "      <td>1.647881e+09</td>\n",
       "    </tr>\n",
       "    <tr>\n",
       "      <th>2628</th>\n",
       "      <td>US</td>\n",
       "      <td>256</td>\n",
       "      <td>1626455340</td>\n",
       "      <td>Q1</td>\n",
       "      <td>1.647971e+09</td>\n",
       "    </tr>\n",
       "    <tr>\n",
       "      <th>2742</th>\n",
       "      <td>US</td>\n",
       "      <td>512</td>\n",
       "      <td>1626898903</td>\n",
       "      <td>Q3</td>\n",
       "      <td>1.647981e+09</td>\n",
       "    </tr>\n",
       "  </tbody>\n",
       "</table>\n",
       "<p>73 rows × 5 columns</p>\n",
       "</div>"
      ],
      "text/plain": [
       "     Region  Model   Timestamp ValveEstimate  TrueOrderTimestamp\n",
       "0        US    256  1626454969            Q1        1.645813e+09\n",
       "6        EU    512  1626454854            Q1        1.645813e+09\n",
       "34       UK    256  1626455083            Q1        1.646675e+09\n",
       "63       EU     64  1626464450            Q1        1.647279e+09\n",
       "101      EU    512  1626455384            Q1        1.646675e+09\n",
       "...     ...    ...         ...           ...                 ...\n",
       "2587     US    512  1626455224            Q1        1.647881e+09\n",
       "2588     US    256  1626455468            Q1        1.647880e+09\n",
       "2616     EU    256  1626463800            Q1        1.647881e+09\n",
       "2628     US    256  1626455340            Q1        1.647971e+09\n",
       "2742     US    512  1626898903            Q3        1.647981e+09\n",
       "\n",
       "[73 rows x 5 columns]"
      ]
     },
     "execution_count": 46,
     "metadata": {},
     "output_type": "execute_result"
    }
   ],
   "source": [
    "trainData5158"
   ]
  },
  {
   "cell_type": "code",
   "execution_count": 47,
   "id": "619de81f",
   "metadata": {},
   "outputs": [],
   "source": []
  }
 ],
 "metadata": {
  "kernelspec": {
   "display_name": "Python 3",
   "language": "python",
   "name": "python3"
  },
  "language_info": {
   "codemirror_mode": {
    "name": "ipython",
    "version": 3
   },
   "file_extension": ".py",
   "mimetype": "text/x-python",
   "name": "python",
   "nbconvert_exporter": "python",
   "pygments_lexer": "ipython3",
   "version": "3.8.8"
  }
 },
 "nbformat": 4,
 "nbformat_minor": 5
}
